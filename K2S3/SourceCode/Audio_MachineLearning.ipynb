{
 "cells": [
  {
   "cell_type": "code",
   "execution_count": null,
   "metadata": {
    "colab": {
     "base_uri": "https://localhost:8080/"
    },
    "executionInfo": {
     "elapsed": 9471,
     "status": "ok",
     "timestamp": 1658421097242,
     "user": {
      "displayName": "‍신희연[학생](국제대학 국제학과)",
      "userId": "11040264814041814168"
     },
     "user_tz": -540
    },
    "id": "RAaKEnc-ahcd",
    "outputId": "b434a9e9-e65e-446f-a904-8f5d247a4b4f"
   },
   "outputs": [
    {
     "name": "stdout",
     "output_type": "stream",
     "text": [
      "Looking in indexes: https://pypi.org/simple, https://us-python.pkg.dev/colab-wheels/public/simple/\n",
      "Collecting pydub\n",
      "  Downloading pydub-0.25.1-py2.py3-none-any.whl (32 kB)\n",
      "Installing collected packages: pydub\n",
      "Successfully installed pydub-0.25.1\n"
     ]
    }
   ],
   "source": [
    "!pip install pydub"
   ]
  },
  {
   "cell_type": "code",
   "execution_count": null,
   "metadata": {
    "colab": {
     "base_uri": "https://localhost:8080/"
    },
    "executionInfo": {
     "elapsed": 29426,
     "status": "ok",
     "timestamp": 1658421126662,
     "user": {
      "displayName": "‍신희연[학생](국제대학 국제학과)",
      "userId": "11040264814041814168"
     },
     "user_tz": -540
    },
    "id": "2XvLb8HQxe1q",
    "outputId": "db8ea21d-cc43-47e8-c6a4-2f53d8564ded"
   },
   "outputs": [
    {
     "name": "stderr",
     "output_type": "stream",
     "text": [
      "/usr/local/lib/python3.7/dist-packages/resampy/interpn.py:114: NumbaWarning: The TBB threading layer requires TBB version 2019.5 or later i.e., TBB_INTERFACE_VERSION >= 11005. Found TBB_INTERFACE_VERSION = 9107. The TBB threading layer is disabled.\n",
      "  _resample_loop_p(x, t_out, interp_win, interp_delta, num_table, scale, y)\n"
     ]
    }
   ],
   "source": [
    "# Import\n",
    "import pandas as pd \n",
    "import numpy as np\n",
    "import os\n",
    "import librosa\n",
    "\n",
    "from pydub import AudioSegment\n",
    "from pydub.playback import play\n",
    "from pydub.utils import make_chunks\n",
    "\n",
    "import matplotlib.pyplot as plt\n",
    "import librosa.display\n",
    "\n",
    "from sklearn.decomposition import PCA\n",
    "from sklearn.preprocessing import StandardScaler\n",
    "from sklearn.model_selection import cross_validate, train_test_split, cross_val_score\n",
    "from sklearn.model_selection import train_test_split\n",
    "from sklearn import svm\n",
    "from sklearn.svm import SVC\n",
    "from sklearn.model_selection import GridSearchCV\n",
    "\n",
    "from sklearn.neighbors import NearestNeighbors, KNeighborsClassifier"
   ]
  },
  {
   "cell_type": "markdown",
   "metadata": {
    "id": "nbEZkNBQbg12"
   },
   "source": [
    "# Function Explanation\n",
    "(name of func.): explain\n",
    "\n",
    "- convert_data(file_path, before_format, after_format): convert original file`s format\n",
    "- segment_data(main_path, file_path, save_path, sec): The data is  segmented by sec\n",
    "\n"
   ]
  },
  {
   "cell_type": "code",
   "execution_count": null,
   "metadata": {
    "colab": {
     "base_uri": "https://localhost:8080/"
    },
    "executionInfo": {
     "elapsed": 22732,
     "status": "ok",
     "timestamp": 1658421149390,
     "user": {
      "displayName": "‍신희연[학생](국제대학 국제학과)",
      "userId": "11040264814041814168"
     },
     "user_tz": -540
    },
    "id": "TS-epBc-vJKm",
    "outputId": "9df7492e-8bbb-43cc-aa9e-c3ff8d005149"
   },
   "outputs": [
    {
     "name": "stdout",
     "output_type": "stream",
     "text": [
      "Mounted at /content/drive\n"
     ]
    }
   ],
   "source": [
    "from google.colab import drive\n",
    "drive.mount('/content/drive')"
   ]
  },
  {
   "cell_type": "code",
   "execution_count": null,
   "metadata": {
    "id": "mx99F892z73B"
   },
   "outputs": [],
   "source": [
    "mainPath = \"/content/drive/Shareddrives/AI-Drone/Dataset/Outdoor/AudioV2/originalSeparate\"\n",
    "pathList = [\"(-5, 5)\", \"(-5, 10)\", \"(-5, 15)\", \"(0, 5)\", \"(0, 10)\", \"(0, 15)\", \"(5, 5)\", \"(5, 10)\", \"(5, 15)\"]\n",
    "pathValue = \"mfcc(value)\"\n",
    "\n",
    "\n",
    "df = {}\n",
    "countUAV = 0\n",
    "countNone = 0\n",
    "\n",
    "for idx, f in enumerate(os.listdir(os.path.join(mainPath, pathList[0], pathValue))):\n",
    "  \n",
    "  mfccs = pd.read_csv(os.path.join(mainPath, pathList[0], pathValue, f), index_col=0)\n",
    "  \n",
    "  # 1D\n",
    "  pca = PCA(n_components=1)\n",
    "  scaler = StandardScaler()\n",
    "\n",
    "\n",
    "  # Normalization (type: ndarray)\n",
    "  std_mfccs = scaler.fit_transform(mfccs)\n",
    "  \n",
    "  # Transepose (mfcc x time) to (time x mfcc)\n",
    "  trans_mfccs = std_mfccs.T\n",
    "  print(trans_mfccs.shape)\n",
    "  # PCA\n",
    "  pca = pca.fit_transform(trans_mfccs) \n",
    "  \n",
    "  for p in pca:\n",
    "    if idx not in df:\n",
    "      df[idx] = []\n",
    "    df[idx].append(p[0])\n",
    "\n",
    "  # Label\n",
    "  if \"Small\" in f or \"Big\" in f:\n",
    "    df[idx].append(1)\n",
    "    countUAV +=1\n",
    "  elif \"No\" in f:\n",
    "    df[idx].append(0)\n",
    "    countNone += 1\n",
    "\n",
    "  print(f)\n",
    "\n",
    "print(countUAV, countNone)\n",
    "\n",
    "df = pd.DataFrame.from_dict(df, orient='index')\n",
    "df.to_csv(os.path.join(mainPath, pathList[0], \"MFCC.csv\"))\n",
    "  "
   ]
  },
  {
   "cell_type": "code",
   "execution_count": null,
   "metadata": {
    "id": "DHN5JlsuhytY"
   },
   "outputs": [],
   "source": [
    "# Set the parameters by cross-validation\n",
    "tuned_parameters =  [{'kernel': ['rbf'], 'gamma': [1e-2, 1e-3, 1e-4, 1e-5], 'C': [0.001, 0.01, 0.1, 10, 25, 50, 100, 1000]},\n",
    "                    {'kernel': ['sigmoid'], 'gamma': [1e-2, 1e-3, 1e-4, 1e-5], 'C': [0.001, 0.01, 0.1, 10, 25, 50, 100, 1000] },\n",
    "                    {'kernel': ['linear'], 'gamma': [1e-2, 1e-3, 1e-4, 1e-5], 'C': [0.001, 0.10, 0.1, 10, 25, 50, 100, 1000]}]              \n",
    "\n",
    "\n",
    "clf = GridSearchCV(SVC(), tuned_parameters, cv=5, scoring=\"accuracy\")"
   ]
  },
  {
   "cell_type": "code",
   "execution_count": null,
   "metadata": {
    "colab": {
     "base_uri": "https://localhost:8080/"
    },
    "executionInfo": {
     "elapsed": 860,
     "status": "ok",
     "timestamp": 1654176863600,
     "user": {
      "displayName": "김주안",
      "userId": "14031210927317294471"
     },
     "user_tz": 240
    },
    "id": "nLgN3Cc0h1vI",
    "outputId": "e39fc49f-7399-46bf-c642-55ed0c32e875"
   },
   "outputs": [
    {
     "name": "stdout",
     "output_type": "stream",
     "text": [
      "1874 Index(['0', '1', '2', '3', '4', '5', '6', '7', '8', '9', '10', '11', '12',\n",
      "       '13', '14', '15', '16', '17', '18', '19', '20'],\n",
      "      dtype='object')\n"
     ]
    }
   ],
   "source": [
    "mainPath = \"/content/drive/Shareddrives/AI-Drone/Dataset\"\n",
    "pathList = [\"0516 Indoor\", \"0517 Indoor\", \"0518 Indoor\", \"0519 Indoor\"]\n",
    "pathValue = \"mfcc(value)\"\n",
    "\n",
    "new_df1 = pd.read_csv(os.path.join(mainPath, pathList[0], \"MFCC.csv\"), index_col=0)\n",
    "new_df2 = pd.read_csv(os.path.join(mainPath, pathList[1], \"MFCC.csv\"), index_col=0)\n",
    "new_df3 = pd.read_csv(os.path.join(mainPath, pathList[2], \"MFCC.csv\"), index_col=0)\n",
    "new_df4 = pd.read_csv(os.path.join(mainPath, pathList[3], \"MFCC.csv\"), index_col=0)\n",
    "\n",
    "temp = pd.concat([new_df1, new_df2], ignore_index=True)\n",
    "temp = pd.concat([temp, new_df3], ignore_index=True)\n",
    "df = pd.concat([temp, new_df4], ignore_index=True)\n",
    "print(len(df), df.columns)"
   ]
  },
  {
   "cell_type": "code",
   "execution_count": null,
   "metadata": {
    "id": "uV-_LKJhh9J0"
   },
   "outputs": [],
   "source": [
    "X = df.drop(columns=['20'])\n",
    "y = df['20']\n"
   ]
  },
  {
   "cell_type": "code",
   "execution_count": null,
   "metadata": {
    "id": "R5yF7I6dlWwF"
   },
   "outputs": [],
   "source": [
    "scaler = StandardScaler()\n",
    "\n",
    "X = scaler.fit_transform(X)"
   ]
  },
  {
   "cell_type": "code",
   "execution_count": null,
   "metadata": {
    "colab": {
     "background_save": true
    },
    "id": "RvHPT4iGh_xB",
    "outputId": "773c1779-7e23-479f-ecdd-9abe267a3d08"
   },
   "outputs": [
    {
     "name": "stdout",
     "output_type": "stream",
     "text": [
      "{'C': 1000, 'gamma': 0.01, 'kernel': 'rbf'}\n",
      "0.8660720142602495\n"
     ]
    }
   ],
   "source": [
    "clf.fit(X, y)\n",
    "print(clf.best_params_)\n",
    "print(clf.best_score_) "
   ]
  },
  {
   "cell_type": "code",
   "execution_count": null,
   "metadata": {
    "colab": {
     "background_save": true
    },
    "id": "xtfiDRe50ghR"
   },
   "outputs": [],
   "source": [
    "# Random Forest\n",
    "from sklearn.ensemble import RandomForestClassifier\n",
    "\n",
    "def rf(X, y, cv):\n",
    "  # Prepare for grid_search\n",
    "  param_grid = { \n",
    "    'max_features': ['auto', 'sqrt', 'log2'],\n",
    "    'max_depth' : [i for i in range(2, 16)],\n",
    "    'criterion' :['gini', 'entropy']\n",
    "  }\n",
    "  # Setting\n",
    "  rfc=RandomForestClassifier() # random_state=42\n",
    "  clf = GridSearchCV(rfc, param_grid=param_grid, cv=cv, scoring=\"accuracy\")\n",
    "\n",
    "\n",
    "  # Training\n",
    "  clf.fit(X, y)\n",
    "\n",
    "  return clf"
   ]
  },
  {
   "cell_type": "code",
   "execution_count": null,
   "metadata": {
    "colab": {
     "background_save": true
    },
    "id": "zxOyhN-_0gzI"
   },
   "outputs": [],
   "source": [
    "# KNN\n",
    "def knn(X, y, cv):\n",
    "  # Prepare for grid_search\n",
    "  k_range = list(range(1, 31))\n",
    "  param_grid = dict(n_neighbors=k_range)\n",
    "\n",
    "  # Setting\n",
    "  knc = KNeighborsClassifier()\n",
    "  clf = GridSearchCV(knc, param_grid, cv=cv, scoring=\"accuracy\") # , scoring=\"accuracy\"\n",
    "\n",
    "  # Training\n",
    "  clf.fit(X, y)\n",
    "\n",
    "  return clf"
   ]
  },
  {
   "cell_type": "code",
   "execution_count": null,
   "metadata": {
    "id": "jBRgY5UP0hCZ"
   },
   "outputs": [],
   "source": [
    "# Exec\n",
    "\n",
    "clf_knn = knn(X, y, 5)\n",
    "print(clf_knn.best_params_)\n",
    "print(clf_knn.best_score_) \n",
    "\n",
    "clf_rf = rf(X, y, 5)\n",
    "print(clf_rf.best_params_)\n",
    "print(clf_rf.best_score_) \n"
   ]
  }
 ],
 "metadata": {
  "colab": {
   "collapsed_sections": [],
   "name": "Audio_MachineLearning.ipynb",
   "provenance": [
    {
     "file_id": "1kYll6tlewG1cbl7HywyQ7fYTlevLC6F3",
     "timestamp": 1658431351197
    },
    {
     "file_id": "1TjX8iPRgCMaoGDIdX8v1vs82eiMFwRV7",
     "timestamp": 1657760002567
    }
   ]
  },
  "kernelspec": {
   "display_name": "Python 3",
   "language": "python",
   "name": "python3"
  },
  "language_info": {
   "codemirror_mode": {
    "name": "ipython",
    "version": 3
   },
   "file_extension": ".py",
   "mimetype": "text/x-python",
   "name": "python",
   "nbconvert_exporter": "python",
   "pygments_lexer": "ipython3",
   "version": "3.6.5"
  }
 },
 "nbformat": 4,
 "nbformat_minor": 1
}
