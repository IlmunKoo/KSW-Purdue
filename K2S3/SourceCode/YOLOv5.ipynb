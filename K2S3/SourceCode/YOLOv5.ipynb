{
 "cells": [
  {
   "cell_type": "code",
   "execution_count": null,
   "metadata": {
    "colab": {
     "base_uri": "https://localhost:8080/"
    },
    "id": "u3ZecTHEbhbT",
    "outputId": "630ea9ca-bfde-4dcd-c3c5-722bb14a4759"
   },
   "outputs": [
    {
     "name": "stdout",
     "output_type": "stream",
     "text": [
      "Mounted at /content/drive\n"
     ]
    }
   ],
   "source": [
    "#Mount on Your Drive\n",
    "from google.colab import drive\n",
    "drive.mount('/content/drive')"
   ]
  },
  {
   "cell_type": "markdown",
   "metadata": {
    "id": "MHJ9Gg84emMM"
   },
   "source": [
    "## 1. Setup"
   ]
  },
  {
   "cell_type": "code",
   "execution_count": null,
   "metadata": {
    "colab": {
     "base_uri": "https://localhost:8080/"
    },
    "id": "rXQb1SN1euR3",
    "outputId": "b6a59e27-d12d-4ea1-d603-4799e5b9ade0"
   },
   "outputs": [
    {
     "name": "stdout",
     "output_type": "stream",
     "text": [
      "/content/drive/Shareddrives/AI-Drone/pythonnotebook/yolov5\n"
     ]
    }
   ],
   "source": [
    "cd \"Actual Space\""
   ]
  },
  {
   "cell_type": "code",
   "execution_count": null,
   "metadata": {
    "colab": {
     "base_uri": "https://localhost:8080/"
    },
    "id": "rlsp-F0qb1Q_",
    "outputId": "495b5db6-419c-43f3-a9bb-0c461fb32291"
   },
   "outputs": [
    {
     "name": "stdout",
     "output_type": "stream",
     "text": [
      "Looking in indexes: https://pypi.org/simple, https://us-python.pkg.dev/colab-wheels/public/simple/\n",
      "Collecting wandb\n",
      "  Downloading wandb-0.12.21-py2.py3-none-any.whl (1.8 MB)\n",
      "\u001b[K     |████████████████████████████████| 1.8 MB 4.9 MB/s \n",
      "\u001b[?25hCollecting sentry-sdk>=1.0.0\n",
      "  Downloading sentry_sdk-1.9.0-py2.py3-none-any.whl (156 kB)\n",
      "\u001b[K     |████████████████████████████████| 156 kB 66.2 MB/s \n",
      "\u001b[?25hRequirement already satisfied: requests<3,>=2.0.0 in /usr/local/lib/python3.7/dist-packages (from wandb) (2.23.0)\n",
      "Collecting setproctitle\n",
      "  Downloading setproctitle-1.3.0-cp37-cp37m-manylinux_2_5_x86_64.manylinux1_x86_64.manylinux_2_17_x86_64.manylinux2014_x86_64.whl (30 kB)\n",
      "Requirement already satisfied: Click!=8.0.0,>=7.0 in /usr/local/lib/python3.7/dist-packages (from wandb) (7.1.2)\n",
      "Requirement already satisfied: promise<3,>=2.0 in /usr/local/lib/python3.7/dist-packages (from wandb) (2.3)\n",
      "Requirement already satisfied: six>=1.13.0 in /usr/local/lib/python3.7/dist-packages (from wandb) (1.15.0)\n",
      "Collecting pathtools\n",
      "  Downloading pathtools-0.1.2.tar.gz (11 kB)\n",
      "Requirement already satisfied: protobuf<4.0dev,>=3.12.0 in /usr/local/lib/python3.7/dist-packages (from wandb) (3.17.3)\n",
      "Collecting docker-pycreds>=0.4.0\n",
      "  Downloading docker_pycreds-0.4.0-py2.py3-none-any.whl (9.0 kB)\n",
      "Requirement already satisfied: PyYAML in /usr/local/lib/python3.7/dist-packages (from wandb) (3.13)\n",
      "Collecting GitPython>=1.0.0\n",
      "  Downloading GitPython-3.1.27-py3-none-any.whl (181 kB)\n",
      "\u001b[K     |████████████████████████████████| 181 kB 69.3 MB/s \n",
      "\u001b[?25hCollecting shortuuid>=0.5.0\n",
      "  Downloading shortuuid-1.0.9-py3-none-any.whl (9.4 kB)\n",
      "Requirement already satisfied: setuptools in /usr/local/lib/python3.7/dist-packages (from wandb) (57.4.0)\n",
      "Requirement already satisfied: psutil>=5.0.0 in /usr/local/lib/python3.7/dist-packages (from wandb) (5.4.8)\n",
      "Collecting gitdb<5,>=4.0.1\n",
      "  Downloading gitdb-4.0.9-py3-none-any.whl (63 kB)\n",
      "\u001b[K     |████████████████████████████████| 63 kB 2.6 MB/s \n",
      "\u001b[?25hRequirement already satisfied: typing-extensions>=3.7.4.3 in /usr/local/lib/python3.7/dist-packages (from GitPython>=1.0.0->wandb) (4.1.1)\n",
      "Collecting smmap<6,>=3.0.1\n",
      "  Downloading smmap-5.0.0-py3-none-any.whl (24 kB)\n",
      "Requirement already satisfied: chardet<4,>=3.0.2 in /usr/local/lib/python3.7/dist-packages (from requests<3,>=2.0.0->wandb) (3.0.4)\n",
      "Requirement already satisfied: certifi>=2017.4.17 in /usr/local/lib/python3.7/dist-packages (from requests<3,>=2.0.0->wandb) (2022.6.15)\n",
      "Requirement already satisfied: urllib3!=1.25.0,!=1.25.1,<1.26,>=1.21.1 in /usr/local/lib/python3.7/dist-packages (from requests<3,>=2.0.0->wandb) (1.24.3)\n",
      "Requirement already satisfied: idna<3,>=2.5 in /usr/local/lib/python3.7/dist-packages (from requests<3,>=2.0.0->wandb) (2.10)\n",
      "Building wheels for collected packages: pathtools\n",
      "  Building wheel for pathtools (setup.py) ... \u001b[?25l\u001b[?25hdone\n",
      "  Created wheel for pathtools: filename=pathtools-0.1.2-py3-none-any.whl size=8806 sha256=8eb0c77be56b0fba4262688bdaf2b260a9ab0c3fae3f702777c5ce711c3eef3e\n",
      "  Stored in directory: /root/.cache/pip/wheels/3e/31/09/fa59cef12cdcfecc627b3d24273699f390e71828921b2cbba2\n",
      "Successfully built pathtools\n",
      "Installing collected packages: smmap, gitdb, shortuuid, setproctitle, sentry-sdk, pathtools, GitPython, docker-pycreds, wandb\n",
      "Successfully installed GitPython-3.1.27 docker-pycreds-0.4.0 gitdb-4.0.9 pathtools-0.1.2 sentry-sdk-1.9.0 setproctitle-1.3.0 shortuuid-1.0.9 smmap-5.0.0 wandb-0.12.21\n"
     ]
    }
   ],
   "source": [
    "#install wandb to visualize the result\n",
    "!pip install wandb"
   ]
  },
  {
   "cell_type": "code",
   "execution_count": null,
   "metadata": {},
   "outputs": [],
   "source": [
    "#login wandb\n",
    "import wandb\n",
    "!wandb login"
   ]
  },
  {
   "cell_type": "code",
   "execution_count": null,
   "metadata": {
    "colab": {
     "base_uri": "https://localhost:8080/",
     "height": 1000
    },
    "id": "znBqUvBZeuUe",
    "outputId": "57d54211-be4d-4101-c659-8ee42aa827f7"
   },
   "outputs": [
    {
     "name": "stdout",
     "output_type": "stream",
     "text": [
      "Looking in indexes: https://pypi.org/simple, https://us-python.pkg.dev/colab-wheels/public/simple/\n",
      "Requirement already satisfied: matplotlib>=3.2.2 in /usr/local/lib/python3.7/dist-packages (from -r requirements.txt (line 5)) (3.2.2)\n",
      "Requirement already satisfied: numpy>=1.18.5 in /usr/local/lib/python3.7/dist-packages (from -r requirements.txt (line 6)) (1.21.6)\n",
      "Requirement already satisfied: opencv-python>=4.1.1 in /usr/local/lib/python3.7/dist-packages (from -r requirements.txt (line 7)) (4.6.0.66)\n",
      "Requirement already satisfied: Pillow>=7.1.2 in /usr/local/lib/python3.7/dist-packages (from -r requirements.txt (line 8)) (7.1.2)\n",
      "Collecting PyYAML>=5.3.1\n",
      "  Downloading PyYAML-6.0-cp37-cp37m-manylinux_2_5_x86_64.manylinux1_x86_64.manylinux_2_12_x86_64.manylinux2010_x86_64.whl (596 kB)\n",
      "\u001b[K     |████████████████████████████████| 596 kB 5.3 MB/s \n",
      "\u001b[?25hRequirement already satisfied: requests>=2.23.0 in /usr/local/lib/python3.7/dist-packages (from -r requirements.txt (line 10)) (2.23.0)\n",
      "Requirement already satisfied: scipy>=1.4.1 in /usr/local/lib/python3.7/dist-packages (from -r requirements.txt (line 11)) (1.7.3)\n",
      "Requirement already satisfied: torch>=1.7.0 in /usr/local/lib/python3.7/dist-packages (from -r requirements.txt (line 12)) (1.12.0+cu113)\n",
      "Requirement already satisfied: torchvision>=0.8.1 in /usr/local/lib/python3.7/dist-packages (from -r requirements.txt (line 13)) (0.13.0+cu113)\n",
      "Requirement already satisfied: tqdm>=4.64.0 in /usr/local/lib/python3.7/dist-packages (from -r requirements.txt (line 14)) (4.64.0)\n",
      "Requirement already satisfied: protobuf<=3.20.1 in /usr/local/lib/python3.7/dist-packages (from -r requirements.txt (line 15)) (3.17.3)\n",
      "Requirement already satisfied: tensorboard>=2.4.1 in /usr/local/lib/python3.7/dist-packages (from -r requirements.txt (line 18)) (2.8.0)\n",
      "Requirement already satisfied: pandas>=1.1.4 in /usr/local/lib/python3.7/dist-packages (from -r requirements.txt (line 22)) (1.3.5)\n",
      "Requirement already satisfied: seaborn>=0.11.0 in /usr/local/lib/python3.7/dist-packages (from -r requirements.txt (line 23)) (0.11.2)\n",
      "Requirement already satisfied: ipython in /usr/local/lib/python3.7/dist-packages (from -r requirements.txt (line 37)) (5.5.0)\n",
      "Requirement already satisfied: psutil in /usr/local/lib/python3.7/dist-packages (from -r requirements.txt (line 38)) (5.4.8)\n",
      "Collecting thop>=0.1.1\n",
      "  Downloading thop-0.1.1.post2207130030-py3-none-any.whl (15 kB)\n",
      "Requirement already satisfied: python-dateutil>=2.1 in /usr/local/lib/python3.7/dist-packages (from matplotlib>=3.2.2->-r requirements.txt (line 5)) (2.8.2)\n",
      "Requirement already satisfied: pyparsing!=2.0.4,!=2.1.2,!=2.1.6,>=2.0.1 in /usr/local/lib/python3.7/dist-packages (from matplotlib>=3.2.2->-r requirements.txt (line 5)) (3.0.9)\n",
      "Requirement already satisfied: kiwisolver>=1.0.1 in /usr/local/lib/python3.7/dist-packages (from matplotlib>=3.2.2->-r requirements.txt (line 5)) (1.4.4)\n",
      "Requirement already satisfied: cycler>=0.10 in /usr/local/lib/python3.7/dist-packages (from matplotlib>=3.2.2->-r requirements.txt (line 5)) (0.11.0)\n",
      "Requirement already satisfied: urllib3!=1.25.0,!=1.25.1,<1.26,>=1.21.1 in /usr/local/lib/python3.7/dist-packages (from requests>=2.23.0->-r requirements.txt (line 10)) (1.24.3)\n",
      "Requirement already satisfied: chardet<4,>=3.0.2 in /usr/local/lib/python3.7/dist-packages (from requests>=2.23.0->-r requirements.txt (line 10)) (3.0.4)\n",
      "Requirement already satisfied: idna<3,>=2.5 in /usr/local/lib/python3.7/dist-packages (from requests>=2.23.0->-r requirements.txt (line 10)) (2.10)\n",
      "Requirement already satisfied: certifi>=2017.4.17 in /usr/local/lib/python3.7/dist-packages (from requests>=2.23.0->-r requirements.txt (line 10)) (2022.6.15)\n",
      "Requirement already satisfied: typing-extensions in /usr/local/lib/python3.7/dist-packages (from torch>=1.7.0->-r requirements.txt (line 12)) (4.1.1)\n",
      "Requirement already satisfied: six>=1.9 in /usr/local/lib/python3.7/dist-packages (from protobuf<=3.20.1->-r requirements.txt (line 15)) (1.15.0)\n",
      "Requirement already satisfied: setuptools>=41.0.0 in /usr/local/lib/python3.7/dist-packages (from tensorboard>=2.4.1->-r requirements.txt (line 18)) (57.4.0)\n",
      "Requirement already satisfied: absl-py>=0.4 in /usr/local/lib/python3.7/dist-packages (from tensorboard>=2.4.1->-r requirements.txt (line 18)) (1.2.0)\n",
      "Requirement already satisfied: wheel>=0.26 in /usr/local/lib/python3.7/dist-packages (from tensorboard>=2.4.1->-r requirements.txt (line 18)) (0.37.1)\n",
      "Requirement already satisfied: markdown>=2.6.8 in /usr/local/lib/python3.7/dist-packages (from tensorboard>=2.4.1->-r requirements.txt (line 18)) (3.4.1)\n",
      "Requirement already satisfied: tensorboard-plugin-wit>=1.6.0 in /usr/local/lib/python3.7/dist-packages (from tensorboard>=2.4.1->-r requirements.txt (line 18)) (1.8.1)\n",
      "Requirement already satisfied: grpcio>=1.24.3 in /usr/local/lib/python3.7/dist-packages (from tensorboard>=2.4.1->-r requirements.txt (line 18)) (1.47.0)\n",
      "Requirement already satisfied: google-auth<3,>=1.6.3 in /usr/local/lib/python3.7/dist-packages (from tensorboard>=2.4.1->-r requirements.txt (line 18)) (1.35.0)\n",
      "Requirement already satisfied: google-auth-oauthlib<0.5,>=0.4.1 in /usr/local/lib/python3.7/dist-packages (from tensorboard>=2.4.1->-r requirements.txt (line 18)) (0.4.6)\n",
      "Requirement already satisfied: tensorboard-data-server<0.7.0,>=0.6.0 in /usr/local/lib/python3.7/dist-packages (from tensorboard>=2.4.1->-r requirements.txt (line 18)) (0.6.1)\n",
      "Requirement already satisfied: werkzeug>=0.11.15 in /usr/local/lib/python3.7/dist-packages (from tensorboard>=2.4.1->-r requirements.txt (line 18)) (1.0.1)\n",
      "Requirement already satisfied: pytz>=2017.3 in /usr/local/lib/python3.7/dist-packages (from pandas>=1.1.4->-r requirements.txt (line 22)) (2022.1)\n",
      "Requirement already satisfied: cachetools<5.0,>=2.0.0 in /usr/local/lib/python3.7/dist-packages (from google-auth<3,>=1.6.3->tensorboard>=2.4.1->-r requirements.txt (line 18)) (4.2.4)\n",
      "Requirement already satisfied: pyasn1-modules>=0.2.1 in /usr/local/lib/python3.7/dist-packages (from google-auth<3,>=1.6.3->tensorboard>=2.4.1->-r requirements.txt (line 18)) (0.2.8)\n",
      "Requirement already satisfied: rsa<5,>=3.1.4 in /usr/local/lib/python3.7/dist-packages (from google-auth<3,>=1.6.3->tensorboard>=2.4.1->-r requirements.txt (line 18)) (4.9)\n",
      "Requirement already satisfied: requests-oauthlib>=0.7.0 in /usr/local/lib/python3.7/dist-packages (from google-auth-oauthlib<0.5,>=0.4.1->tensorboard>=2.4.1->-r requirements.txt (line 18)) (1.3.1)\n",
      "Requirement already satisfied: importlib-metadata>=4.4 in /usr/local/lib/python3.7/dist-packages (from markdown>=2.6.8->tensorboard>=2.4.1->-r requirements.txt (line 18)) (4.12.0)\n",
      "Requirement already satisfied: zipp>=0.5 in /usr/local/lib/python3.7/dist-packages (from importlib-metadata>=4.4->markdown>=2.6.8->tensorboard>=2.4.1->-r requirements.txt (line 18)) (3.8.1)\n",
      "Requirement already satisfied: pyasn1<0.5.0,>=0.4.6 in /usr/local/lib/python3.7/dist-packages (from pyasn1-modules>=0.2.1->google-auth<3,>=1.6.3->tensorboard>=2.4.1->-r requirements.txt (line 18)) (0.4.8)\n",
      "Requirement already satisfied: oauthlib>=3.0.0 in /usr/local/lib/python3.7/dist-packages (from requests-oauthlib>=0.7.0->google-auth-oauthlib<0.5,>=0.4.1->tensorboard>=2.4.1->-r requirements.txt (line 18)) (3.2.0)\n",
      "Requirement already satisfied: prompt-toolkit<2.0.0,>=1.0.4 in /usr/local/lib/python3.7/dist-packages (from ipython->-r requirements.txt (line 37)) (1.0.18)\n",
      "Requirement already satisfied: pexpect in /usr/local/lib/python3.7/dist-packages (from ipython->-r requirements.txt (line 37)) (4.8.0)\n",
      "Requirement already satisfied: pickleshare in /usr/local/lib/python3.7/dist-packages (from ipython->-r requirements.txt (line 37)) (0.7.5)\n",
      "Requirement already satisfied: simplegeneric>0.8 in /usr/local/lib/python3.7/dist-packages (from ipython->-r requirements.txt (line 37)) (0.8.1)\n",
      "Requirement already satisfied: pygments in /usr/local/lib/python3.7/dist-packages (from ipython->-r requirements.txt (line 37)) (2.6.1)\n",
      "Requirement already satisfied: traitlets>=4.2 in /usr/local/lib/python3.7/dist-packages (from ipython->-r requirements.txt (line 37)) (5.1.1)\n",
      "Requirement already satisfied: decorator in /usr/local/lib/python3.7/dist-packages (from ipython->-r requirements.txt (line 37)) (4.4.2)\n",
      "Requirement already satisfied: wcwidth in /usr/local/lib/python3.7/dist-packages (from prompt-toolkit<2.0.0,>=1.0.4->ipython->-r requirements.txt (line 37)) (0.2.5)\n",
      "Requirement already satisfied: ptyprocess>=0.5 in /usr/local/lib/python3.7/dist-packages (from pexpect->ipython->-r requirements.txt (line 37)) (0.7.0)\n",
      "Installing collected packages: thop, PyYAML\n",
      "  Attempting uninstall: PyYAML\n",
      "    Found existing installation: PyYAML 3.13\n",
      "    Uninstalling PyYAML-3.13:\n",
      "      Successfully uninstalled PyYAML-3.13\n",
      "Successfully installed PyYAML-6.0 thop-0.1.1.post2207130030\n"
     ]
    },
    {
     "data": {
      "application/vnd.colab-display-data+json": {
       "pip_warning": {
        "packages": [
         "yaml"
        ]
       }
      }
     },
     "metadata": {},
     "output_type": "display_data"
    }
   ],
   "source": [
    "!pip install -r requirements.txt  # install all requirement using for yolov5 model"
   ]
  },
  {
   "cell_type": "markdown",
   "metadata": {
    "id": "NhT-lA_-gUFH"
   },
   "source": [
    "## 2. Create dataset.yaml"
   ]
  },
  {
   "cell_type": "code",
   "execution_count": null,
   "metadata": {
    "colab": {
     "base_uri": "https://localhost:8080/"
    },
    "id": "oQIBytKygX8T",
    "outputId": "589ee220-1a53-45fc-cd70-09d1ed9fda7f"
   },
   "outputs": [
    {
     "name": "stdout",
     "output_type": "stream",
     "text": [
      "path: /content/drive/Shareddrives/AI-Drone/temp/Vision\n",
      "train: train/images\n",
      "val: val/images\n",
      "test: test/images\n",
      "\n",
      "nc: 1\n",
      "names: ['Drone']"
     ]
    }
   ],
   "source": [
    "cat DroneDataset.yaml"
   ]
  },
  {
   "cell_type": "markdown",
   "metadata": {
    "id": "no4fkRUCvDly"
   },
   "source": [
    "## 3. Train"
   ]
  },
  {
   "cell_type": "code",
   "execution_count": null,
   "metadata": {
    "colab": {
     "base_uri": "https://localhost:8080/"
    },
    "id": "_39aHaS2wRvh",
    "outputId": "5a2c68c1-89f4-46bf-eb15-c0699f3efd5b"
   },
   "outputs": [
    {
     "name": "stdout",
     "output_type": "stream",
     "text": [
      "/content/drive/Shareddrives/AI-Drone/pythonnotebook/yolov5\n"
     ]
    }
   ],
   "source": [
    "cd /content/drive/Shareddrives/AI-Drone/pythonnotebook/yolov5"
   ]
  },
  {
   "cell_type": "code",
   "execution_count": null,
   "metadata": {
    "colab": {
     "base_uri": "https://localhost:8080/"
    },
    "id": "v4on_PEWTQY3",
    "outputId": "3a6c22bd-300c-4471-d288-cb8c2143dba9"
   },
   "outputs": [
    {
     "name": "stdout",
     "output_type": "stream",
     "text": [
      "Looking in indexes: https://pypi.org/simple, https://us-python.pkg.dev/colab-wheels/public/simple/\n",
      "Requirement already satisfied: matplotlib>=3.2.2 in /usr/local/lib/python3.7/dist-packages (from -r requirements.txt (line 5)) (3.2.2)\n",
      "Requirement already satisfied: numpy>=1.18.5 in /usr/local/lib/python3.7/dist-packages (from -r requirements.txt (line 6)) (1.21.6)\n",
      "Requirement already satisfied: opencv-python>=4.1.1 in /usr/local/lib/python3.7/dist-packages (from -r requirements.txt (line 7)) (4.6.0.66)\n",
      "Requirement already satisfied: Pillow>=7.1.2 in /usr/local/lib/python3.7/dist-packages (from -r requirements.txt (line 8)) (7.1.2)\n",
      "Requirement already satisfied: PyYAML>=5.3.1 in /usr/local/lib/python3.7/dist-packages (from -r requirements.txt (line 9)) (6.0)\n",
      "Requirement already satisfied: requests>=2.23.0 in /usr/local/lib/python3.7/dist-packages (from -r requirements.txt (line 10)) (2.23.0)\n",
      "Requirement already satisfied: scipy>=1.4.1 in /usr/local/lib/python3.7/dist-packages (from -r requirements.txt (line 11)) (1.7.3)\n",
      "Requirement already satisfied: torch>=1.7.0 in /usr/local/lib/python3.7/dist-packages (from -r requirements.txt (line 12)) (1.12.0+cu113)\n",
      "Requirement already satisfied: torchvision>=0.8.1 in /usr/local/lib/python3.7/dist-packages (from -r requirements.txt (line 13)) (0.13.0+cu113)\n",
      "Requirement already satisfied: tqdm>=4.64.0 in /usr/local/lib/python3.7/dist-packages (from -r requirements.txt (line 14)) (4.64.0)\n",
      "Requirement already satisfied: protobuf<=3.20.1 in /usr/local/lib/python3.7/dist-packages (from -r requirements.txt (line 15)) (3.17.3)\n",
      "Requirement already satisfied: tensorboard>=2.4.1 in /usr/local/lib/python3.7/dist-packages (from -r requirements.txt (line 18)) (2.8.0)\n",
      "Requirement already satisfied: pandas>=1.1.4 in /usr/local/lib/python3.7/dist-packages (from -r requirements.txt (line 22)) (1.3.5)\n",
      "Requirement already satisfied: seaborn>=0.11.0 in /usr/local/lib/python3.7/dist-packages (from -r requirements.txt (line 23)) (0.11.2)\n",
      "Requirement already satisfied: ipython in /usr/local/lib/python3.7/dist-packages (from -r requirements.txt (line 37)) (5.5.0)\n",
      "Requirement already satisfied: psutil in /usr/local/lib/python3.7/dist-packages (from -r requirements.txt (line 38)) (5.4.8)\n",
      "Requirement already satisfied: thop>=0.1.1 in /usr/local/lib/python3.7/dist-packages (from -r requirements.txt (line 39)) (0.1.1.post2207130030)\n",
      "Requirement already satisfied: pyparsing!=2.0.4,!=2.1.2,!=2.1.6,>=2.0.1 in /usr/local/lib/python3.7/dist-packages (from matplotlib>=3.2.2->-r requirements.txt (line 5)) (3.0.9)\n",
      "Requirement already satisfied: cycler>=0.10 in /usr/local/lib/python3.7/dist-packages (from matplotlib>=3.2.2->-r requirements.txt (line 5)) (0.11.0)\n",
      "Requirement already satisfied: python-dateutil>=2.1 in /usr/local/lib/python3.7/dist-packages (from matplotlib>=3.2.2->-r requirements.txt (line 5)) (2.8.2)\n",
      "Requirement already satisfied: kiwisolver>=1.0.1 in /usr/local/lib/python3.7/dist-packages (from matplotlib>=3.2.2->-r requirements.txt (line 5)) (1.4.4)\n",
      "Requirement already satisfied: idna<3,>=2.5 in /usr/local/lib/python3.7/dist-packages (from requests>=2.23.0->-r requirements.txt (line 10)) (2.10)\n",
      "Requirement already satisfied: chardet<4,>=3.0.2 in /usr/local/lib/python3.7/dist-packages (from requests>=2.23.0->-r requirements.txt (line 10)) (3.0.4)\n",
      "Requirement already satisfied: urllib3!=1.25.0,!=1.25.1,<1.26,>=1.21.1 in /usr/local/lib/python3.7/dist-packages (from requests>=2.23.0->-r requirements.txt (line 10)) (1.24.3)\n",
      "Requirement already satisfied: certifi>=2017.4.17 in /usr/local/lib/python3.7/dist-packages (from requests>=2.23.0->-r requirements.txt (line 10)) (2022.6.15)\n",
      "Requirement already satisfied: typing-extensions in /usr/local/lib/python3.7/dist-packages (from torch>=1.7.0->-r requirements.txt (line 12)) (4.1.1)\n",
      "Requirement already satisfied: six>=1.9 in /usr/local/lib/python3.7/dist-packages (from protobuf<=3.20.1->-r requirements.txt (line 15)) (1.15.0)\n",
      "Requirement already satisfied: absl-py>=0.4 in /usr/local/lib/python3.7/dist-packages (from tensorboard>=2.4.1->-r requirements.txt (line 18)) (1.2.0)\n",
      "Requirement already satisfied: setuptools>=41.0.0 in /usr/local/lib/python3.7/dist-packages (from tensorboard>=2.4.1->-r requirements.txt (line 18)) (57.4.0)\n",
      "Requirement already satisfied: google-auth-oauthlib<0.5,>=0.4.1 in /usr/local/lib/python3.7/dist-packages (from tensorboard>=2.4.1->-r requirements.txt (line 18)) (0.4.6)\n",
      "Requirement already satisfied: wheel>=0.26 in /usr/local/lib/python3.7/dist-packages (from tensorboard>=2.4.1->-r requirements.txt (line 18)) (0.37.1)\n",
      "Requirement already satisfied: google-auth<3,>=1.6.3 in /usr/local/lib/python3.7/dist-packages (from tensorboard>=2.4.1->-r requirements.txt (line 18)) (1.35.0)\n",
      "Requirement already satisfied: tensorboard-plugin-wit>=1.6.0 in /usr/local/lib/python3.7/dist-packages (from tensorboard>=2.4.1->-r requirements.txt (line 18)) (1.8.1)\n",
      "Requirement already satisfied: werkzeug>=0.11.15 in /usr/local/lib/python3.7/dist-packages (from tensorboard>=2.4.1->-r requirements.txt (line 18)) (1.0.1)\n",
      "Requirement already satisfied: tensorboard-data-server<0.7.0,>=0.6.0 in /usr/local/lib/python3.7/dist-packages (from tensorboard>=2.4.1->-r requirements.txt (line 18)) (0.6.1)\n",
      "Requirement already satisfied: markdown>=2.6.8 in /usr/local/lib/python3.7/dist-packages (from tensorboard>=2.4.1->-r requirements.txt (line 18)) (3.4.1)\n",
      "Requirement already satisfied: grpcio>=1.24.3 in /usr/local/lib/python3.7/dist-packages (from tensorboard>=2.4.1->-r requirements.txt (line 18)) (1.47.0)\n",
      "Requirement already satisfied: pytz>=2017.3 in /usr/local/lib/python3.7/dist-packages (from pandas>=1.1.4->-r requirements.txt (line 22)) (2022.1)\n",
      "Requirement already satisfied: cachetools<5.0,>=2.0.0 in /usr/local/lib/python3.7/dist-packages (from google-auth<3,>=1.6.3->tensorboard>=2.4.1->-r requirements.txt (line 18)) (4.2.4)\n",
      "Requirement already satisfied: pyasn1-modules>=0.2.1 in /usr/local/lib/python3.7/dist-packages (from google-auth<3,>=1.6.3->tensorboard>=2.4.1->-r requirements.txt (line 18)) (0.2.8)\n",
      "Requirement already satisfied: rsa<5,>=3.1.4 in /usr/local/lib/python3.7/dist-packages (from google-auth<3,>=1.6.3->tensorboard>=2.4.1->-r requirements.txt (line 18)) (4.9)\n",
      "Requirement already satisfied: requests-oauthlib>=0.7.0 in /usr/local/lib/python3.7/dist-packages (from google-auth-oauthlib<0.5,>=0.4.1->tensorboard>=2.4.1->-r requirements.txt (line 18)) (1.3.1)\n",
      "Requirement already satisfied: importlib-metadata>=4.4 in /usr/local/lib/python3.7/dist-packages (from markdown>=2.6.8->tensorboard>=2.4.1->-r requirements.txt (line 18)) (4.12.0)\n",
      "Requirement already satisfied: zipp>=0.5 in /usr/local/lib/python3.7/dist-packages (from importlib-metadata>=4.4->markdown>=2.6.8->tensorboard>=2.4.1->-r requirements.txt (line 18)) (3.8.1)\n",
      "Requirement already satisfied: pyasn1<0.5.0,>=0.4.6 in /usr/local/lib/python3.7/dist-packages (from pyasn1-modules>=0.2.1->google-auth<3,>=1.6.3->tensorboard>=2.4.1->-r requirements.txt (line 18)) (0.4.8)\n",
      "Requirement already satisfied: oauthlib>=3.0.0 in /usr/local/lib/python3.7/dist-packages (from requests-oauthlib>=0.7.0->google-auth-oauthlib<0.5,>=0.4.1->tensorboard>=2.4.1->-r requirements.txt (line 18)) (3.2.0)\n",
      "Requirement already satisfied: prompt-toolkit<2.0.0,>=1.0.4 in /usr/local/lib/python3.7/dist-packages (from ipython->-r requirements.txt (line 37)) (1.0.18)\n",
      "Requirement already satisfied: simplegeneric>0.8 in /usr/local/lib/python3.7/dist-packages (from ipython->-r requirements.txt (line 37)) (0.8.1)\n",
      "Requirement already satisfied: pexpect in /usr/local/lib/python3.7/dist-packages (from ipython->-r requirements.txt (line 37)) (4.8.0)\n",
      "Requirement already satisfied: decorator in /usr/local/lib/python3.7/dist-packages (from ipython->-r requirements.txt (line 37)) (4.4.2)\n",
      "Requirement already satisfied: traitlets>=4.2 in /usr/local/lib/python3.7/dist-packages (from ipython->-r requirements.txt (line 37)) (5.1.1)\n",
      "Requirement already satisfied: pickleshare in /usr/local/lib/python3.7/dist-packages (from ipython->-r requirements.txt (line 37)) (0.7.5)\n",
      "Requirement already satisfied: pygments in /usr/local/lib/python3.7/dist-packages (from ipython->-r requirements.txt (line 37)) (2.6.1)\n",
      "Requirement already satisfied: wcwidth in /usr/local/lib/python3.7/dist-packages (from prompt-toolkit<2.0.0,>=1.0.4->ipython->-r requirements.txt (line 37)) (0.2.5)\n",
      "Requirement already satisfied: ptyprocess>=0.5 in /usr/local/lib/python3.7/dist-packages (from pexpect->ipython->-r requirements.txt (line 37)) (0.7.0)\n"
     ]
    }
   ],
   "source": [
    "!pip install -r requirements.txt  # install"
   ]
  },
  {
   "cell_type": "code",
   "execution_count": null,
   "metadata": {
    "colab": {
     "base_uri": "https://localhost:8080/"
    },
    "id": "pKwPT3nTJ2-d",
    "outputId": "dace88d6-688b-496b-8bce-e35373a0001f"
   },
   "outputs": [
    {
     "name": "stdout",
     "output_type": "stream",
     "text": [
      "Looking in indexes: https://pypi.org/simple, https://us-python.pkg.dev/colab-wheels/public/simple/\n",
      "Collecting wandb\n",
      "  Downloading wandb-0.12.21-py2.py3-none-any.whl (1.8 MB)\n",
      "\u001b[K     |████████████████████████████████| 1.8 MB 24.4 MB/s \n",
      "\u001b[?25hRequirement already satisfied: Click!=8.0.0,>=7.0 in /usr/local/lib/python3.7/dist-packages (from wandb) (7.1.2)\n",
      "Requirement already satisfied: six>=1.13.0 in /usr/local/lib/python3.7/dist-packages (from wandb) (1.15.0)\n",
      "Requirement already satisfied: setuptools in /usr/local/lib/python3.7/dist-packages (from wandb) (57.4.0)\n",
      "Requirement already satisfied: psutil>=5.0.0 in /usr/local/lib/python3.7/dist-packages (from wandb) (5.4.8)\n",
      "Collecting pathtools\n",
      "  Downloading pathtools-0.1.2.tar.gz (11 kB)\n",
      "Collecting sentry-sdk>=1.0.0\n",
      "  Downloading sentry_sdk-1.9.0-py2.py3-none-any.whl (156 kB)\n",
      "\u001b[K     |████████████████████████████████| 156 kB 59.6 MB/s \n",
      "\u001b[?25hRequirement already satisfied: PyYAML in /usr/local/lib/python3.7/dist-packages (from wandb) (6.0)\n",
      "Collecting docker-pycreds>=0.4.0\n",
      "  Downloading docker_pycreds-0.4.0-py2.py3-none-any.whl (9.0 kB)\n",
      "Collecting setproctitle\n",
      "  Downloading setproctitle-1.3.0-cp37-cp37m-manylinux_2_5_x86_64.manylinux1_x86_64.manylinux_2_17_x86_64.manylinux2014_x86_64.whl (30 kB)\n",
      "Requirement already satisfied: protobuf<4.0dev,>=3.12.0 in /usr/local/lib/python3.7/dist-packages (from wandb) (3.17.3)\n",
      "Requirement already satisfied: requests<3,>=2.0.0 in /usr/local/lib/python3.7/dist-packages (from wandb) (2.23.0)\n",
      "Requirement already satisfied: promise<3,>=2.0 in /usr/local/lib/python3.7/dist-packages (from wandb) (2.3)\n",
      "Collecting GitPython>=1.0.0\n",
      "  Downloading GitPython-3.1.27-py3-none-any.whl (181 kB)\n",
      "\u001b[K     |████████████████████████████████| 181 kB 60.6 MB/s \n",
      "\u001b[?25hCollecting shortuuid>=0.5.0\n",
      "  Downloading shortuuid-1.0.9-py3-none-any.whl (9.4 kB)\n",
      "Collecting gitdb<5,>=4.0.1\n",
      "  Downloading gitdb-4.0.9-py3-none-any.whl (63 kB)\n",
      "\u001b[K     |████████████████████████████████| 63 kB 2.4 MB/s \n",
      "\u001b[?25hRequirement already satisfied: typing-extensions>=3.7.4.3 in /usr/local/lib/python3.7/dist-packages (from GitPython>=1.0.0->wandb) (4.1.1)\n",
      "Collecting smmap<6,>=3.0.1\n",
      "  Downloading smmap-5.0.0-py3-none-any.whl (24 kB)\n",
      "Requirement already satisfied: certifi>=2017.4.17 in /usr/local/lib/python3.7/dist-packages (from requests<3,>=2.0.0->wandb) (2022.6.15)\n",
      "Requirement already satisfied: chardet<4,>=3.0.2 in /usr/local/lib/python3.7/dist-packages (from requests<3,>=2.0.0->wandb) (3.0.4)\n",
      "Requirement already satisfied: urllib3!=1.25.0,!=1.25.1,<1.26,>=1.21.1 in /usr/local/lib/python3.7/dist-packages (from requests<3,>=2.0.0->wandb) (1.24.3)\n",
      "Requirement already satisfied: idna<3,>=2.5 in /usr/local/lib/python3.7/dist-packages (from requests<3,>=2.0.0->wandb) (2.10)\n",
      "Building wheels for collected packages: pathtools\n",
      "  Building wheel for pathtools (setup.py) ... \u001b[?25l\u001b[?25hdone\n",
      "  Created wheel for pathtools: filename=pathtools-0.1.2-py3-none-any.whl size=8806 sha256=0b0ef8108a4b8809959a835155157fb0c9b17b612b8bcc3e66f7a3764bca19f2\n",
      "  Stored in directory: /root/.cache/pip/wheels/3e/31/09/fa59cef12cdcfecc627b3d24273699f390e71828921b2cbba2\n",
      "Successfully built pathtools\n",
      "Installing collected packages: smmap, gitdb, shortuuid, setproctitle, sentry-sdk, pathtools, GitPython, docker-pycreds, wandb\n",
      "Successfully installed GitPython-3.1.27 docker-pycreds-0.4.0 gitdb-4.0.9 pathtools-0.1.2 sentry-sdk-1.9.0 setproctitle-1.3.0 shortuuid-1.0.9 smmap-5.0.0 wandb-0.12.21\n"
     ]
    }
   ],
   "source": [
    "!pip install wandb"
   ]
  },
  {
   "cell_type": "code",
   "execution_count": null,
   "metadata": {
    "colab": {
     "base_uri": "https://localhost:8080/"
    },
    "id": "Upq13A6lJ9Y0",
    "outputId": "1f2f9b9f-173a-49ce-8632-4b4daeb79409"
   },
   "outputs": [
    {
     "name": "stdout",
     "output_type": "stream",
     "text": [
      "\u001b[34m\u001b[1mwandb\u001b[0m: Currently logged in as: \u001b[33mdongwhanlee\u001b[0m. Use \u001b[1m`wandb login --relogin`\u001b[0m to force relogin\n"
     ]
    }
   ],
   "source": [
    "import wandb\n",
    "!wandb login"
   ]
  },
  {
   "cell_type": "code",
   "execution_count": null,
   "metadata": {
    "colab": {
     "base_uri": "https://localhost:8080/"
    },
    "id": "o3x9D1S1AR81",
    "outputId": "3fe85193-9e53-44ab-b4ac-97b72d108cb1"
   },
   "outputs": [
    {
     "name": "stdout",
     "output_type": "stream",
     "text": [
      "\u001b[34m\u001b[1mwandb\u001b[0m: Currently logged in as: \u001b[33mdongwhanlee\u001b[0m. Use \u001b[1m`wandb login --relogin`\u001b[0m to force relogin\n",
      "usage: train.py [-h] [--weights WEIGHTS] [--cfg CFG] [--data DATA] [--hyp HYP]\n",
      "                [--epochs EPOCHS] [--batch-size BATCH_SIZE] [--imgsz IMGSZ]\n",
      "                [--rect] [--resume [RESUME]] [--nosave] [--noval]\n",
      "                [--noautoanchor] [--noplots] [--evolve [EVOLVE]]\n",
      "                [--bucket BUCKET] [--cache [CACHE]] [--image-weights]\n",
      "                [--device DEVICE] [--multi-scale] [--single-cls]\n",
      "                [--optimizer {SGD,Adam,AdamW}] [--sync-bn] [--workers WORKERS]\n",
      "                [--project PROJECT] [--name NAME] [--exist-ok] [--quad]\n",
      "                [--cos-lr] [--label-smoothing LABEL_SMOOTHING]\n",
      "                [--patience PATIENCE] [--freeze FREEZE [FREEZE ...]]\n",
      "                [--save-period SAVE_PERIOD] [--seed SEED]\n",
      "                [--local_rank LOCAL_RANK] [--entity ENTITY]\n",
      "                [--upload_dataset [UPLOAD_DATASET]]\n",
      "                [--bbox_interval BBOX_INTERVAL]\n",
      "                [--artifact_alias ARTIFACT_ALIAS]\n",
      "\n",
      "optional arguments:\n",
      "  -h, --help            show this help message and exit\n",
      "  --weights WEIGHTS     initial weights path\n",
      "  --cfg CFG             model.yaml path\n",
      "  --data DATA           dataset.yaml path\n",
      "  --hyp HYP             hyperparameters path\n",
      "  --epochs EPOCHS\n",
      "  --batch-size BATCH_SIZE\n",
      "                        total batch size for all GPUs, -1 for autobatch\n",
      "  --imgsz IMGSZ, --img IMGSZ, --img-size IMGSZ\n",
      "                        train, val image size (pixels)\n",
      "  --rect                rectangular training\n",
      "  --resume [RESUME]     resume most recent training\n",
      "  --nosave              only save final checkpoint\n",
      "  --noval               only validate final epoch\n",
      "  --noautoanchor        disable AutoAnchor\n",
      "  --noplots             save no plot files\n",
      "  --evolve [EVOLVE]     evolve hyperparameters for x generations\n",
      "  --bucket BUCKET       gsutil bucket\n",
      "  --cache [CACHE]       --cache images in \"ram\" (default) or \"disk\"\n",
      "  --image-weights       use weighted image selection for training\n",
      "  --device DEVICE       cuda device, i.e. 0 or 0,1,2,3 or cpu\n",
      "  --multi-scale         vary img-size +/- 50%\n",
      "  --single-cls          train multi-class data as single-class\n",
      "  --optimizer {SGD,Adam,AdamW}\n",
      "                        optimizer\n",
      "  --sync-bn             use SyncBatchNorm, only available in DDP mode\n",
      "  --workers WORKERS     max dataloader workers (per RANK in DDP mode)\n",
      "  --project PROJECT     save to project/name\n",
      "  --name NAME           save to project/name\n",
      "  --exist-ok            existing project/name ok, do not increment\n",
      "  --quad                quad dataloader\n",
      "  --cos-lr              cosine LR scheduler\n",
      "  --label-smoothing LABEL_SMOOTHING\n",
      "                        Label smoothing epsilon\n",
      "  --patience PATIENCE   EarlyStopping patience (epochs without improvement)\n",
      "  --freeze FREEZE [FREEZE ...]\n",
      "                        Freeze layers: backbone=10, first3=0 1 2\n",
      "  --save-period SAVE_PERIOD\n",
      "                        Save checkpoint every x epochs (disabled if < 1)\n",
      "  --seed SEED           Global training seed\n",
      "  --local_rank LOCAL_RANK\n",
      "                        Automatic DDP Multi-GPU argument, do not modify\n",
      "  --entity ENTITY       W&B: Entity\n",
      "  --upload_dataset [UPLOAD_DATASET]\n",
      "                        W&B: Upload data, \"val\" option\n",
      "  --bbox_interval BBOX_INTERVAL\n",
      "                        W&B: Set bounding-box image logging interval\n",
      "  --artifact_alias ARTIFACT_ALIAS\n",
      "                        W&B: Version of dataset artifact to use\n"
     ]
    }
   ],
   "source": [
    "!python3 train.py -h"
   ]
  },
  {
   "cell_type": "code",
   "execution_count": null,
   "metadata": {
    "colab": {
     "base_uri": "https://localhost:8080/"
    },
    "id": "rk8RwW9Uv1vS",
    "outputId": "62032679-f7e7-4a35-8379-ccdf088dd925"
   },
   "outputs": [
    {
     "name": "stdout",
     "output_type": "stream",
     "text": [
      "\u001b[34m\u001b[1mwandb\u001b[0m: Currently logged in as: \u001b[33mdongwhanlee\u001b[0m. Use \u001b[1m`wandb login --relogin`\u001b[0m to force relogin\n",
      "\u001b[34m\u001b[1mtrain: \u001b[0mweights=/content/drive/Shareddrives/AI-Drone/pythonnotebook/yolov5/yolov5n.pt, cfg=, data=/content/drive/Shareddrives/AI-Drone/pythonnotebook/yolov5/data/DroneDataset.yaml, hyp=data/hyps/hyp.scratch-low.yaml, epochs=100, batch_size=16, imgsz=640, rect=False, resume=False, nosave=False, noval=False, noautoanchor=False, noplots=False, evolve=None, bucket=, cache=None, image_weights=False, device=, multi_scale=False, single_cls=False, optimizer=SGD, sync_bn=False, workers=8, project=runs/train, name=YOLOv5n, exist_ok=False, quad=False, cos_lr=False, label_smoothing=0.0, patience=100, freeze=[0], save_period=-1, seed=0, local_rank=-1, entity=None, upload_dataset=False, bbox_interval=-1, artifact_alias=latest\n",
      "\u001b[34m\u001b[1mgithub: \u001b[0mskipping check (Docker image), for updates see https://github.com/ultralytics/yolov5\n",
      "YOLOv5 🚀 v6.1-325-g3e85863 Python-3.7.13 torch-1.12.0+cu113 CUDA:0 (Tesla T4, 15110MiB)\n",
      "\n",
      "\u001b[34m\u001b[1mhyperparameters: \u001b[0mlr0=0.01, lrf=0.01, momentum=0.937, weight_decay=0.0005, warmup_epochs=3.0, warmup_momentum=0.8, warmup_bias_lr=0.1, box=0.05, cls=0.5, cls_pw=1.0, obj=1.0, obj_pw=1.0, iou_t=0.2, anchor_t=4.0, fl_gamma=0.0, hsv_h=0.015, hsv_s=0.7, hsv_v=0.4, degrees=0.0, translate=0.1, scale=0.5, shear=0.0, perspective=0.0, flipud=0.0, fliplr=0.5, mosaic=1.0, mixup=0.0, copy_paste=0.0\n",
      "\u001b[34m\u001b[1mTensorBoard: \u001b[0mStart with 'tensorboard --logdir runs/train', view at http://localhost:6006/\n",
      "\u001b[34m\u001b[1mwandb\u001b[0m: Tracking run with wandb version 0.12.21\n",
      "\u001b[34m\u001b[1mwandb\u001b[0m: Run data is saved locally in \u001b[35m\u001b[1m/content/drive/Shareddrives/AI-Drone/pythonnotebook/yolov5/wandb/run-20220802_132609-2vrqd54t\u001b[0m\n",
      "\u001b[34m\u001b[1mwandb\u001b[0m: Run \u001b[1m`wandb offline`\u001b[0m to turn off syncing.\n",
      "\u001b[34m\u001b[1mwandb\u001b[0m: Syncing run \u001b[33mYOLOv5n\u001b[0m\n",
      "\u001b[34m\u001b[1mwandb\u001b[0m: ⭐️ View project at \u001b[34m\u001b[4mhttps://wandb.ai/dongwhanlee/YOLOv5\u001b[0m\n",
      "\u001b[34m\u001b[1mwandb\u001b[0m: 🚀 View run at \u001b[34m\u001b[4mhttps://wandb.ai/dongwhanlee/YOLOv5/runs/2vrqd54t\u001b[0m\n",
      "YOLOv5 temporarily requires wandb version 0.12.10 or below. Some features may not work as expected.\n",
      "Overriding model.yaml nc=80 with nc=1\n",
      "\n",
      "                 from  n    params  module                                  arguments                     \n",
      "  0                -1  1      1760  models.common.Conv                      [3, 16, 6, 2, 2]              \n",
      "  1                -1  1      4672  models.common.Conv                      [16, 32, 3, 2]                \n",
      "  2                -1  1      4800  models.common.C3                        [32, 32, 1]                   \n",
      "  3                -1  1     18560  models.common.Conv                      [32, 64, 3, 2]                \n",
      "  4                -1  2     29184  models.common.C3                        [64, 64, 2]                   \n",
      "  5                -1  1     73984  models.common.Conv                      [64, 128, 3, 2]               \n",
      "  6                -1  3    156928  models.common.C3                        [128, 128, 3]                 \n",
      "  7                -1  1    295424  models.common.Conv                      [128, 256, 3, 2]              \n",
      "  8                -1  1    296448  models.common.C3                        [256, 256, 1]                 \n",
      "  9                -1  1    164608  models.common.SPPF                      [256, 256, 5]                 \n",
      " 10                -1  1     33024  models.common.Conv                      [256, 128, 1, 1]              \n",
      " 11                -1  1         0  torch.nn.modules.upsampling.Upsample    [None, 2, 'nearest']          \n",
      " 12           [-1, 6]  1         0  models.common.Concat                    [1]                           \n",
      " 13                -1  1     90880  models.common.C3                        [256, 128, 1, False]          \n",
      " 14                -1  1      8320  models.common.Conv                      [128, 64, 1, 1]               \n",
      " 15                -1  1         0  torch.nn.modules.upsampling.Upsample    [None, 2, 'nearest']          \n",
      " 16           [-1, 4]  1         0  models.common.Concat                    [1]                           \n",
      " 17                -1  1     22912  models.common.C3                        [128, 64, 1, False]           \n",
      " 18                -1  1     36992  models.common.Conv                      [64, 64, 3, 2]                \n",
      " 19          [-1, 14]  1         0  models.common.Concat                    [1]                           \n",
      " 20                -1  1     74496  models.common.C3                        [128, 128, 1, False]          \n",
      " 21                -1  1    147712  models.common.Conv                      [128, 128, 3, 2]              \n",
      " 22          [-1, 10]  1         0  models.common.Concat                    [1]                           \n",
      " 23                -1  1    296448  models.common.C3                        [256, 256, 1, False]          \n",
      " 24      [17, 20, 23]  1      8118  models.yolo.Detect                      [1, [[10, 13, 16, 30, 33, 23], [30, 61, 62, 45, 59, 119], [116, 90, 156, 198, 373, 326]], [64, 128, 256]]\n",
      "Model summary: 270 layers, 1765270 parameters, 1765270 gradients, 4.2 GFLOPs\n",
      "\n",
      "Transferred 343/349 items from /content/drive/Shareddrives/AI-Drone/pythonnotebook/yolov5/yolov5n.pt\n",
      "\u001b[34m\u001b[1mAMP: \u001b[0mchecks passed ✅\n",
      "Scaled weight_decay = 0.0005\n",
      "\u001b[34m\u001b[1moptimizer:\u001b[0m SGD with parameter groups 57 weight (no decay), 60 weight, 60 bias\n",
      "\u001b[34m\u001b[1malbumentations: \u001b[0mBlur(always_apply=False, p=0.01, blur_limit=(3, 7)), MedianBlur(always_apply=False, p=0.01, blur_limit=(3, 7)), ToGray(always_apply=False, p=0.01), CLAHE(always_apply=False, p=0.01, clip_limit=(1, 4.0), tile_grid_size=(8, 8))\n",
      "\u001b[34m\u001b[1mtrain: \u001b[0mScanning '/content/drive/Shareddrives/AI-Drone/temp/Vision/train/labels.cache' images and labels... 758 found, 1352 missing, 0 empty, 0 corrupt: 100% 2110/2110 [00:00<?, ?it/s]\n",
      "\u001b[34m\u001b[1mval: \u001b[0mScanning '/content/drive/Shareddrives/AI-Drone/temp/Vision/val/labels.cache' images and labels... 151 found, 449 missing, 0 empty, 0 corrupt: 100% 600/600 [00:00<?, ?it/s]\n",
      "Plotting labels to runs/train/YOLOv5n2/labels.jpg... \n",
      "\n",
      "\u001b[34m\u001b[1mAutoAnchor: \u001b[0m4.69 anchors/target, 1.000 Best Possible Recall (BPR). Current anchors are a good fit to dataset ✅\n",
      "Image sizes 640 train, 640 val\n",
      "Using 2 dataloader workers\n",
      "Logging results to \u001b[1mruns/train/YOLOv5n2\u001b[0m\n",
      "Starting training for 100 epochs...\n",
      "\n",
      "     Epoch   gpu_mem       box       obj       cls    labels  img_size\n",
      "      0/99     1.84G     0.104    0.0117         0        11       640: 100% 132/132 [13:23<00:00,  6.08s/it]\n",
      "               Class     Images     Labels          P          R     mAP@.5 mAP@.5:.95: 100% 19/19 [00:19<00:00,  1.02s/it]\n",
      "                 all        600        151   0.000506      0.603    0.00128   0.000312\n",
      "\n",
      "     Epoch   gpu_mem       box       obj       cls    labels  img_size\n",
      "      1/99     2.04G   0.06655  0.007099         0        15       640: 100% 132/132 [03:31<00:00,  1.60s/it]\n",
      "               Class     Images     Labels          P          R     mAP@.5 mAP@.5:.95: 100% 19/19 [00:20<00:00,  1.06s/it]\n",
      "                 all        600        151   0.000836      0.993     0.0453     0.0129\n",
      "\n",
      "     Epoch   gpu_mem       box       obj       cls    labels  img_size\n",
      "      2/99     2.04G     0.057  0.006661         0        10       640: 100% 132/132 [03:30<00:00,  1.59s/it]\n",
      "               Class     Images     Labels          P          R     mAP@.5 mAP@.5:.95: 100% 19/19 [00:19<00:00,  1.04s/it]\n",
      "                 all        600        151    0.00114          1     0.0458     0.0149\n",
      "\n",
      "     Epoch   gpu_mem       box       obj       cls    labels  img_size\n",
      "      3/99     2.04G   0.05318  0.005829         0         7       640: 100% 132/132 [03:30<00:00,  1.59s/it]\n",
      "               Class     Images     Labels          P          R     mAP@.5 mAP@.5:.95: 100% 19/19 [00:19<00:00,  1.04s/it]\n",
      "                 all        600        151      0.112     0.0199    0.00444    0.00181\n",
      "\n",
      "     Epoch   gpu_mem       box       obj       cls    labels  img_size\n",
      "      4/99     2.04G   0.05067  0.005303         0         8       640: 100% 132/132 [03:30<00:00,  1.60s/it]\n",
      "               Class     Images     Labels          P          R     mAP@.5 mAP@.5:.95: 100% 19/19 [00:19<00:00,  1.04s/it]\n",
      "                 all        600        151      0.204      0.556      0.186     0.0732\n",
      "\n",
      "     Epoch   gpu_mem       box       obj       cls    labels  img_size\n",
      "      5/99     2.04G   0.04958  0.004854         0         8       640: 100% 132/132 [03:28<00:00,  1.58s/it]\n",
      "               Class     Images     Labels          P          R     mAP@.5 mAP@.5:.95: 100% 19/19 [00:19<00:00,  1.03s/it]\n",
      "                 all        600        151     0.0886     0.0397      0.038     0.0107\n",
      "\n",
      "     Epoch   gpu_mem       box       obj       cls    labels  img_size\n",
      "      6/99     2.04G   0.04577  0.004745         0         7       640: 100% 132/132 [03:29<00:00,  1.58s/it]\n",
      "               Class     Images     Labels          P          R     mAP@.5 mAP@.5:.95: 100% 19/19 [00:19<00:00,  1.03s/it]\n",
      "                 all        600        151      0.569      0.603      0.595      0.284\n",
      "\n",
      "     Epoch   gpu_mem       box       obj       cls    labels  img_size\n",
      "      7/99     2.04G   0.04163  0.004737         0        11       640: 100% 132/132 [03:30<00:00,  1.59s/it]\n",
      "               Class     Images     Labels          P          R     mAP@.5 mAP@.5:.95: 100% 19/19 [00:18<00:00,  1.00it/s]\n",
      "                 all        600        151      0.132      0.166     0.0477     0.0123\n",
      "\n",
      "     Epoch   gpu_mem       box       obj       cls    labels  img_size\n",
      "      8/99     2.04G   0.04039  0.004678         0         6       640: 100% 132/132 [03:30<00:00,  1.60s/it]\n",
      "               Class     Images     Labels          P          R     mAP@.5 mAP@.5:.95: 100% 19/19 [00:19<00:00,  1.04s/it]\n",
      "                 all        600        151      0.492      0.583      0.513      0.206\n",
      "\n",
      "     Epoch   gpu_mem       box       obj       cls    labels  img_size\n",
      "      9/99     2.04G   0.04051  0.004219         0         8       640: 100% 132/132 [03:29<00:00,  1.59s/it]\n",
      "               Class     Images     Labels          P          R     mAP@.5 mAP@.5:.95: 100% 19/19 [00:20<00:00,  1.07s/it]\n",
      "                 all        600        151      0.559      0.801      0.664      0.346\n",
      "\n",
      "     Epoch   gpu_mem       box       obj       cls    labels  img_size\n",
      "     10/99     2.04G   0.03963  0.004149         0         9       640: 100% 132/132 [03:30<00:00,  1.59s/it]\n",
      "               Class     Images     Labels          P          R     mAP@.5 mAP@.5:.95: 100% 19/19 [00:20<00:00,  1.06s/it]\n",
      "                 all        600        151      0.503      0.768      0.595      0.165\n",
      "\n",
      "     Epoch   gpu_mem       box       obj       cls    labels  img_size\n",
      "     11/99     2.04G   0.04097  0.004395         0         8       640: 100% 132/132 [03:31<00:00,  1.60s/it]\n",
      "               Class     Images     Labels          P          R     mAP@.5 mAP@.5:.95: 100% 19/19 [00:20<00:00,  1.07s/it]\n",
      "                 all        600        151      0.427      0.556      0.386      0.132\n",
      "\n",
      "     Epoch   gpu_mem       box       obj       cls    labels  img_size\n",
      "     12/99     2.04G    0.0391  0.004072         0         7       640: 100% 132/132 [03:31<00:00,  1.60s/it]\n",
      "               Class     Images     Labels          P          R     mAP@.5 mAP@.5:.95: 100% 19/19 [00:20<00:00,  1.06s/it]\n",
      "                 all        600        151      0.616      0.868      0.636      0.291\n",
      "\n",
      "     Epoch   gpu_mem       box       obj       cls    labels  img_size\n",
      "     13/99     2.04G   0.03853   0.00393         0         9       640: 100% 132/132 [03:29<00:00,  1.59s/it]\n",
      "               Class     Images     Labels          P          R     mAP@.5 mAP@.5:.95: 100% 19/19 [00:20<00:00,  1.07s/it]\n",
      "                 all        600        151      0.665       0.71      0.714      0.311\n",
      "\n",
      "     Epoch   gpu_mem       box       obj       cls    labels  img_size\n",
      "     14/99     2.04G   0.03676  0.003894         0         9       640: 100% 132/132 [03:29<00:00,  1.59s/it]\n",
      "               Class     Images     Labels          P          R     mAP@.5 mAP@.5:.95: 100% 19/19 [00:20<00:00,  1.06s/it]\n",
      "                 all        600        151      0.629      0.821      0.642      0.335\n",
      "\n",
      "     Epoch   gpu_mem       box       obj       cls    labels  img_size\n",
      "     15/99     2.04G   0.03568  0.003751         0         6       640: 100% 132/132 [03:30<00:00,  1.60s/it]\n",
      "               Class     Images     Labels          P          R     mAP@.5 mAP@.5:.95: 100% 19/19 [00:20<00:00,  1.05s/it]\n",
      "                 all        600        151      0.624      0.901      0.667      0.283\n",
      "\n",
      "     Epoch   gpu_mem       box       obj       cls    labels  img_size\n",
      "     16/99     2.04G   0.03564  0.003706         0        10       640: 100% 132/132 [03:33<00:00,  1.61s/it]\n",
      "               Class     Images     Labels          P          R     mAP@.5 mAP@.5:.95: 100% 19/19 [00:19<00:00,  1.05s/it]\n",
      "                 all        600        151     0.0915      0.159     0.0341    0.00821\n",
      "\n",
      "     Epoch   gpu_mem       box       obj       cls    labels  img_size\n",
      "     17/99     2.04G   0.03701  0.003584         0         9       640: 100% 132/132 [03:33<00:00,  1.62s/it]\n",
      "               Class     Images     Labels          P          R     mAP@.5 mAP@.5:.95: 100% 19/19 [00:19<00:00,  1.05s/it]\n",
      "                 all        600        151      0.692      0.879      0.744      0.256\n",
      "\n",
      "     Epoch   gpu_mem       box       obj       cls    labels  img_size\n",
      "     18/99     2.04G   0.03555  0.003454         0         9       640: 100% 132/132 [03:35<00:00,  1.63s/it]\n",
      "               Class     Images     Labels          P          R     mAP@.5 mAP@.5:.95: 100% 19/19 [00:20<00:00,  1.06s/it]\n",
      "                 all        600        151      0.666      0.868      0.794      0.374\n",
      "\n",
      "     Epoch   gpu_mem       box       obj       cls    labels  img_size\n",
      "     19/99     2.04G   0.03489  0.003303         0         8       640: 100% 132/132 [03:34<00:00,  1.62s/it]\n",
      "               Class     Images     Labels          P          R     mAP@.5 mAP@.5:.95: 100% 19/19 [00:20<00:00,  1.06s/it]\n",
      "                 all        600        151      0.666      0.868       0.79      0.477\n",
      "\n",
      "     Epoch   gpu_mem       box       obj       cls    labels  img_size\n",
      "     20/99     2.04G   0.03485  0.003589         0         7       640: 100% 132/132 [03:31<00:00,  1.60s/it]\n",
      "               Class     Images     Labels          P          R     mAP@.5 mAP@.5:.95: 100% 19/19 [00:19<00:00,  1.03s/it]\n",
      "                 all        600        151      0.633      0.881       0.72      0.371\n",
      "\n",
      "     Epoch   gpu_mem       box       obj       cls    labels  img_size\n",
      "     21/99     2.04G   0.03474  0.003398         0        11       640: 100% 132/132 [03:34<00:00,  1.62s/it]\n",
      "               Class     Images     Labels          P          R     mAP@.5 mAP@.5:.95: 100% 19/19 [00:20<00:00,  1.06s/it]\n",
      "                 all        600        151      0.557      0.716      0.536      0.173\n",
      "\n",
      "     Epoch   gpu_mem       box       obj       cls    labels  img_size\n",
      "     22/99     2.04G   0.03399  0.003311         0         7       640: 100% 132/132 [03:35<00:00,  1.63s/it]\n",
      "               Class     Images     Labels          P          R     mAP@.5 mAP@.5:.95: 100% 19/19 [00:20<00:00,  1.08s/it]\n",
      "                 all        600        151      0.694      0.801      0.792      0.483\n",
      "\n",
      "     Epoch   gpu_mem       box       obj       cls    labels  img_size\n",
      "     23/99     2.04G   0.03276  0.003152         0         8       640:  70% 92/132 [02:27<01:06,  1.66s/it]"
     ]
    }
   ],
   "source": [
    "!python3 train.py --img 640 --batch 16 --epochs 100 --data /content/drive/Shareddrives/AI-Drone/pythonnotebook/yolov5/data/DroneDataset.yaml --weights /content/drive/Shareddrives/AI-Drone/pythonnotebook/yolov5/yolov5n.pt --name YOLOv5n"
   ]
  },
  {
   "cell_type": "markdown",
   "metadata": {
    "id": "4UP5cT1qytoU"
   },
   "source": [
    "## Validation"
   ]
  },
  {
   "cell_type": "code",
   "execution_count": null,
   "metadata": {
    "colab": {
     "base_uri": "https://localhost:8080/"
    },
    "id": "z6C6VZVYdDkY",
    "outputId": "b0e5dac7-9afa-4e27-b895-f207557ba0e8"
   },
   "outputs": [
    {
     "name": "stdout",
     "output_type": "stream",
     "text": [
      "\u001b[34m\u001b[1mval: \u001b[0mdata=/content/drive/Shareddrives/AI-Drone/pythonnotebook/yolov5/data/DroneDataset.yaml, weights=['/content/drive/Shareddrives/AI-Drone/pythonnotebook/yolov5/runs/train/exp05_yolov5x/weights/best.pt'], batch_size=32, imgsz=640, conf_thres=0.001, iou_thres=0.6, task=val, device=, workers=8, single_cls=False, augment=False, verbose=False, save_txt=False, save_hybrid=False, save_conf=False, save_json=False, project=runs/val, name=exp05_yolov5x_val, exist_ok=False, half=False, dnn=False\n",
      "YOLOv5 🚀 v6.1-325-g3e85863 Python-3.7.13 torch-1.12.0+cu113 CUDA:0 (Tesla T4, 15110MiB)\n",
      "\n",
      "Fusing layers... \n",
      "Model summary: 444 layers, 86173414 parameters, 0 gradients, 203.8 GFLOPs\n",
      "\u001b[34m\u001b[1mval: \u001b[0mScanning '/content/drive/Shareddrives/AI-Drone/temp/Vision/val/labels.cache' images and labels... 151 found, 449 missing, 0 empty, 0 corrupt: 100% 600/600 [00:00<?, ?it/s]\n",
      "               Class     Images     Labels          P          R     mAP@.5 mAP@.5:.95: 100% 19/19 [00:25<00:00,  1.35s/it]\n",
      "                 all        600        151       0.71      0.907      0.873      0.592\n",
      "Speed: 0.2ms pre-process, 29.3ms inference, 1.6ms NMS per image at shape (32, 3, 640, 640)\n",
      "Results saved to \u001b[1mruns/val/exp05_yolov5x_val\u001b[0m\n"
     ]
    }
   ],
   "source": [
    "!python3 val.py --data /content/drive/Shareddrives/AI-Drone/pythonnotebook/yolov5/data/DroneDataset.yaml --weights \"/content/drive/Shareddrives/AI-Drone/pythonnotebook/yolov5/runs/train/exp05_yolov5x/weights/best.pt\" --name exp05_yolov5x_val"
   ]
  },
  {
   "cell_type": "markdown",
   "metadata": {
    "id": "k5siMebszv1h"
   },
   "source": [
    "## Test"
   ]
  },
  {
   "cell_type": "code",
   "execution_count": null,
   "metadata": {
    "colab": {
     "base_uri": "https://localhost:8080/"
    },
    "id": "IjXebAoPzztM",
    "outputId": "925088d9-4332-4d58-b621-721ed485ab8c"
   },
   "outputs": [
    {
     "name": "stdout",
     "output_type": "stream",
     "text": [
      "\u001b[34m\u001b[1mval: \u001b[0mdata=/content/drive/Shareddrives/AI-Drone/pythonnotebook/yolov5/data/DroneDataset.yaml, weights=['/content/drive/Shareddrives/AI-Drone/pythonnotebook/yolov5/runs/train/exp05_yolov5x/weights/best.pt'], batch_size=32, imgsz=640, conf_thres=0.001, iou_thres=0.6, task=test, device=, workers=8, single_cls=False, augment=False, verbose=False, save_txt=False, save_hybrid=False, save_conf=False, save_json=False, project=runs/val, name=yolov5x_0801, exist_ok=False, half=False, dnn=False\n",
      "YOLOv5 🚀 v6.1-325-g3e85863 Python-3.7.13 torch-1.12.0+cu113 CUDA:0 (Tesla T4, 15110MiB)\n",
      "\n",
      "Fusing layers... \n",
      "Model summary: 444 layers, 86173414 parameters, 0 gradients, 203.8 GFLOPs\n",
      "\u001b[34m\u001b[1mtest: \u001b[0mScanning '/content/drive/Shareddrives/AI-Drone/temp/Vision/test/labels.cache' images and labels... 70 found, 238 missing, 0 empty, 0 corrupt: 100% 308/308 [00:00<?, ?it/s]\n",
      "               Class     Images     Labels          P          R     mAP@.5 mAP@.5:.95: 100% 10/10 [00:14<00:00,  1.44s/it]\n",
      "                 all        308         70      0.605      0.914      0.846      0.619\n",
      "Speed: 0.8ms pre-process, 27.7ms inference, 1.4ms NMS per image at shape (32, 3, 640, 640)\n",
      "Results saved to \u001b[1mruns/val/yolov5x_0801\u001b[0m\n"
     ]
    }
   ],
   "source": [
    "!python3 val.py --data /content/drive/Shareddrives/AI-Drone/pythonnotebook/yolov5/data/DroneDataset.yaml --weights \"/content/drive/Shareddrives/AI-Drone/pythonnotebook/yolov5/runs/train/exp05_yolov5x/weights/best.pt\"  --task test  --name yolov5x_0801"
   ]
  },
  {
   "cell_type": "code",
   "execution_count": null,
   "metadata": {
    "colab": {
     "base_uri": "https://localhost:8080/"
    },
    "id": "ZUIj6UQQzzrW",
    "outputId": "f3b9126a-93c5-4ff6-a253-091ef927134c"
   },
   "outputs": [
    {
     "name": "stdout",
     "output_type": "stream",
     "text": [
      "\u001b[34m\u001b[1mdetect: \u001b[0mweights=['/content/drive/Shareddrives/AI-Drone/pythonnotebook/yolov5/runs/train/exp05_yolov5x/weights/best.pt'], source=/content/drive/Shareddrives/AI-Drone/temp/Vision/test/images, data=data/coco128.yaml, imgsz=[640, 640], conf_thres=0.25, iou_thres=0.45, max_det=1000, device=, view_img=False, save_txt=True, save_conf=True, save_crop=False, nosave=False, classes=None, agnostic_nms=False, augment=False, visualize=False, update=False, project=runs/detect, name=exp, exist_ok=False, line_thickness=3, hide_labels=False, hide_conf=False, half=False, dnn=False\n",
      "YOLOv5 🚀 v6.1-325-g3e85863 Python-3.7.13 torch-1.12.0+cu113 CUDA:0 (Tesla T4, 15110MiB)\n",
      "\n",
      "Fusing layers... \n",
      "Model summary: 444 layers, 86173414 parameters, 0 gradients, 203.8 GFLOPs\n",
      "image 1/308 /content/drive/Shareddrives/AI-Drone/temp/Vision/test/images/moving_dp20m_Matrice200V2_0713_1_18.jpg: 384x640 1 Drone, Done. (0.056s)\n",
      "image 2/308 /content/drive/Shareddrives/AI-Drone/temp/Vision/test/images/moving_dp20m_Matrice200V2_0713_1_4.jpg: 384x640 1 Drone, Done. (0.061s)\n",
      "image 3/308 /content/drive/Shareddrives/AI-Drone/temp/Vision/test/images/moving_dp20m_Matrice200V2_0713_1_6.jpg: 384x640 1 Drone, Done. (0.061s)\n",
      "image 4/308 /content/drive/Shareddrives/AI-Drone/temp/Vision/test/images/moving_dp20m_Matrice200V2_0713_1_64.jpg: 384x640 1 Drone, Done. (0.068s)\n",
      "image 5/308 /content/drive/Shareddrives/AI-Drone/temp/Vision/test/images/moving_dp20m_Matrice200V2_0713_2_26.jpg: 384x640 1 Drone, Done. (0.061s)\n",
      "image 6/308 /content/drive/Shareddrives/AI-Drone/temp/Vision/test/images/moving_dp20m_Matrice200V2_0713_2_29.jpg: 384x640 1 Drone, Done. (0.061s)\n",
      "image 7/308 /content/drive/Shareddrives/AI-Drone/temp/Vision/test/images/moving_dp20m_Matrice200V2_0713_2_44.jpg: 384x640 1 Drone, Done. (0.059s)\n",
      "image 8/308 /content/drive/Shareddrives/AI-Drone/temp/Vision/test/images/moving_dp20m_Matrice200V2_0713_2_64.jpg: 384x640 1 Drone, Done. (0.047s)\n",
      "image 9/308 /content/drive/Shareddrives/AI-Drone/temp/Vision/test/images/moving_dp20m_Matrice200V2_0713_3_29.jpg: 384x640 1 Drone, Done. (0.047s)\n",
      "image 10/308 /content/drive/Shareddrives/AI-Drone/temp/Vision/test/images/moving_dp20m_Matrice200V2_0713_3_30.jpg: 384x640 1 Drone, Done. (0.047s)\n",
      "image 11/308 /content/drive/Shareddrives/AI-Drone/temp/Vision/test/images/moving_dp20m_Matrice200V2_0713_3_40.jpg: 384x640 1 Drone, Done. (0.041s)\n",
      "image 12/308 /content/drive/Shareddrives/AI-Drone/temp/Vision/test/images/moving_dp20m_Matrice200V2_0713_3_48.jpg: 384x640 1 Drone, Done. (0.042s)\n",
      "image 13/308 /content/drive/Shareddrives/AI-Drone/temp/Vision/test/images/moving_dp20m_Matrice200V2_0713_3_5.jpg: 384x640 1 Drone, Done. (0.041s)\n",
      "image 14/308 /content/drive/Shareddrives/AI-Drone/temp/Vision/test/images/moving_dp20m_Matrice200V2_0713_3_53.jpg: 384x640 1 Drone, Done. (0.042s)\n",
      "image 15/308 /content/drive/Shareddrives/AI-Drone/temp/Vision/test/images/moving_dp20m_Matrice200V2_0713_3_55.jpg: 384x640 1 Drone, Done. (0.041s)\n",
      "image 16/308 /content/drive/Shareddrives/AI-Drone/temp/Vision/test/images/moving_dp20m_Matrice200V2_0713_3_56.jpg: 384x640 1 Drone, Done. (0.040s)\n",
      "image 17/308 /content/drive/Shareddrives/AI-Drone/temp/Vision/test/images/moving_dp20m_Matrice200V2_0713_3_64.jpg: 384x640 1 Drone, Done. (0.040s)\n",
      "image 18/308 /content/drive/Shareddrives/AI-Drone/temp/Vision/test/images/moving_dp20m_Matrice200V2_0713_3_7.jpg: 384x640 1 Drone, Done. (0.040s)\n",
      "image 19/308 /content/drive/Shareddrives/AI-Drone/temp/Vision/test/images/moving_dp20m_Matrice200V2_0713_4_10.jpg: 384x640 1 Drone, Done. (0.040s)\n",
      "image 20/308 /content/drive/Shareddrives/AI-Drone/temp/Vision/test/images/moving_dp20m_Matrice200V2_0713_4_12.jpg: 384x640 1 Drone, Done. (0.040s)\n",
      "image 21/308 /content/drive/Shareddrives/AI-Drone/temp/Vision/test/images/moving_dp20m_Matrice200V2_0713_4_22.jpg: 384x640 1 Drone, Done. (0.040s)\n",
      "image 22/308 /content/drive/Shareddrives/AI-Drone/temp/Vision/test/images/moving_dp20m_Matrice200V2_0713_4_39.jpg: 384x640 1 Drone, Done. (0.040s)\n",
      "image 23/308 /content/drive/Shareddrives/AI-Drone/temp/Vision/test/images/moving_dp20m_Matrice200V2_0713_4_6.jpg: 384x640 1 Drone, Done. (0.040s)\n",
      "image 24/308 /content/drive/Shareddrives/AI-Drone/temp/Vision/test/images/moving_dp20m_Matrice200V2_0713_5_1.jpg: 384x640 1 Drone, Done. (0.061s)\n",
      "image 25/308 /content/drive/Shareddrives/AI-Drone/temp/Vision/test/images/moving_dp20m_Matrice200V2_0713_5_116.jpg: 384x640 1 Drone, Done. (0.061s)\n",
      "image 26/308 /content/drive/Shareddrives/AI-Drone/temp/Vision/test/images/moving_dp20m_Matrice200V2_0713_5_122.jpg: 384x640 1 Drone, Done. (0.061s)\n",
      "image 27/308 /content/drive/Shareddrives/AI-Drone/temp/Vision/test/images/moving_dp20m_Matrice200V2_0713_5_127.jpg: 384x640 1 Drone, Done. (0.061s)\n",
      "image 28/308 /content/drive/Shareddrives/AI-Drone/temp/Vision/test/images/moving_dp20m_Matrice200V2_0713_5_138.jpg: 384x640 1 Drone, Done. (0.061s)\n",
      "image 29/308 /content/drive/Shareddrives/AI-Drone/temp/Vision/test/images/moving_dp20m_Matrice200V2_0713_5_146.jpg: 384x640 1 Drone, Done. (0.059s)\n",
      "image 30/308 /content/drive/Shareddrives/AI-Drone/temp/Vision/test/images/moving_dp20m_Matrice200V2_0713_5_156.jpg: 384x640 1 Drone, Done. (0.058s)\n",
      "image 31/308 /content/drive/Shareddrives/AI-Drone/temp/Vision/test/images/moving_dp20m_Matrice200V2_0713_5_159.jpg: 384x640 1 Drone, Done. (0.053s)\n",
      "image 32/308 /content/drive/Shareddrives/AI-Drone/temp/Vision/test/images/moving_dp20m_Matrice200V2_0713_5_161.jpg: 384x640 1 Drone, Done. (0.053s)\n",
      "image 33/308 /content/drive/Shareddrives/AI-Drone/temp/Vision/test/images/moving_dp20m_Matrice200V2_0713_5_174.jpg: 384x640 1 Drone, Done. (0.053s)\n",
      "image 34/308 /content/drive/Shareddrives/AI-Drone/temp/Vision/test/images/moving_dp20m_Matrice200V2_0713_5_175.jpg: 384x640 1 Drone, Done. (0.053s)\n",
      "image 35/308 /content/drive/Shareddrives/AI-Drone/temp/Vision/test/images/moving_dp20m_Matrice200V2_0713_5_180.jpg: 384x640 1 Drone, Done. (0.053s)\n",
      "image 36/308 /content/drive/Shareddrives/AI-Drone/temp/Vision/test/images/moving_dp20m_Matrice200V2_0713_5_20.jpg: 384x640 1 Drone, Done. (0.053s)\n",
      "image 37/308 /content/drive/Shareddrives/AI-Drone/temp/Vision/test/images/moving_dp20m_Matrice200V2_0713_5_23.jpg: 384x640 1 Drone, Done. (0.051s)\n",
      "image 38/308 /content/drive/Shareddrives/AI-Drone/temp/Vision/test/images/moving_dp20m_Matrice200V2_0713_5_34.jpg: 384x640 1 Drone, Done. (0.052s)\n",
      "image 39/308 /content/drive/Shareddrives/AI-Drone/temp/Vision/test/images/moving_dp20m_Matrice200V2_0713_5_40.jpg: 384x640 1 Drone, Done. (0.051s)\n",
      "image 40/308 /content/drive/Shareddrives/AI-Drone/temp/Vision/test/images/moving_dp20m_Matrice200V2_0713_5_48.jpg: 384x640 1 Drone, Done. (0.044s)\n",
      "image 41/308 /content/drive/Shareddrives/AI-Drone/temp/Vision/test/images/moving_dp20m_Matrice200V2_0713_5_50.jpg: 384x640 1 Drone, Done. (0.044s)\n",
      "image 42/308 /content/drive/Shareddrives/AI-Drone/temp/Vision/test/images/moving_dp20m_Matrice200V2_0713_5_52.jpg: 384x640 1 Drone, Done. (0.044s)\n",
      "image 43/308 /content/drive/Shareddrives/AI-Drone/temp/Vision/test/images/moving_dp20m_Matrice200V2_0713_5_53.jpg: 384x640 1 Drone, Done. (0.044s)\n",
      "image 44/308 /content/drive/Shareddrives/AI-Drone/temp/Vision/test/images/moving_dp20m_Matrice200V2_0713_5_62.jpg: 384x640 1 Drone, Done. (0.044s)\n",
      "image 45/308 /content/drive/Shareddrives/AI-Drone/temp/Vision/test/images/moving_dp20m_Matrice200V2_0713_5_64.jpg: 384x640 1 Drone, Done. (0.041s)\n",
      "image 46/308 /content/drive/Shareddrives/AI-Drone/temp/Vision/test/images/moving_dp20m_Matrice200V2_0713_5_68.jpg: 384x640 1 Drone, Done. (0.041s)\n",
      "image 47/308 /content/drive/Shareddrives/AI-Drone/temp/Vision/test/images/moving_dp20m_Matrice200V2_0713_5_82.jpg: 384x640 1 Drone, Done. (0.041s)\n",
      "image 48/308 /content/drive/Shareddrives/AI-Drone/temp/Vision/test/images/moving_dp20m_Matrice200V2_0713_5_89.jpg: 384x640 1 Drone, Done. (0.041s)\n",
      "image 49/308 /content/drive/Shareddrives/AI-Drone/temp/Vision/test/images/moving_dp20m_Matrice200V2_0713_6_18.jpg: 384x640 1 Drone, Done. (0.041s)\n",
      "image 50/308 /content/drive/Shareddrives/AI-Drone/temp/Vision/test/images/moving_dp20m_Matrice200V2_0713_6_20.jpg: 384x640 1 Drone, Done. (0.041s)\n",
      "image 51/308 /content/drive/Shareddrives/AI-Drone/temp/Vision/test/images/moving_dp20m_Matrice200V2_0720_1_107.jpg: 384x640 1 Drone, Done. (0.040s)\n",
      "image 52/308 /content/drive/Shareddrives/AI-Drone/temp/Vision/test/images/moving_dp20m_Matrice200V2_0720_1_129.jpg: 384x640 1 Drone, Done. (0.040s)\n",
      "image 53/308 /content/drive/Shareddrives/AI-Drone/temp/Vision/test/images/moving_dp20m_Matrice200V2_0720_1_149.jpg: 384x640 1 Drone, Done. (0.040s)\n",
      "image 54/308 /content/drive/Shareddrives/AI-Drone/temp/Vision/test/images/moving_dp20m_Matrice200V2_0720_1_153.jpg: 384x640 1 Drone, Done. (0.040s)\n",
      "image 55/308 /content/drive/Shareddrives/AI-Drone/temp/Vision/test/images/moving_dp20m_Matrice200V2_0720_1_175.jpg: 384x640 1 Drone, Done. (0.040s)\n",
      "image 56/308 /content/drive/Shareddrives/AI-Drone/temp/Vision/test/images/moving_dp20m_Matrice200V2_0720_1_178.jpg: 384x640 1 Drone, Done. (0.040s)\n",
      "image 57/308 /content/drive/Shareddrives/AI-Drone/temp/Vision/test/images/moving_dp20m_Matrice200V2_0720_1_193.jpg: 384x640 1 Drone, Done. (0.040s)\n",
      "image 58/308 /content/drive/Shareddrives/AI-Drone/temp/Vision/test/images/moving_dp20m_Matrice200V2_0720_1_212.jpg: 384x640 1 Drone, Done. (0.040s)\n",
      "image 59/308 /content/drive/Shareddrives/AI-Drone/temp/Vision/test/images/moving_dp20m_Matrice200V2_0720_1_240.jpg: 384x640 1 Drone, Done. (0.040s)\n",
      "image 60/308 /content/drive/Shareddrives/AI-Drone/temp/Vision/test/images/moving_dp20m_Matrice200V2_0720_1_242.jpg: 384x640 Done. (0.040s)\n",
      "image 61/308 /content/drive/Shareddrives/AI-Drone/temp/Vision/test/images/moving_dp20m_Matrice200V2_0720_1_252.jpg: 384x640 1 Drone, Done. (0.040s)\n",
      "image 62/308 /content/drive/Shareddrives/AI-Drone/temp/Vision/test/images/moving_dp20m_Matrice200V2_0720_1_26.jpg: 384x640 2 Drones, Done. (0.039s)\n",
      "image 63/308 /content/drive/Shareddrives/AI-Drone/temp/Vision/test/images/moving_dp20m_Matrice200V2_0720_1_261.jpg: 384x640 1 Drone, Done. (0.039s)\n",
      "image 64/308 /content/drive/Shareddrives/AI-Drone/temp/Vision/test/images/moving_dp20m_Matrice200V2_0720_1_265.jpg: 384x640 1 Drone, Done. (0.039s)\n",
      "image 65/308 /content/drive/Shareddrives/AI-Drone/temp/Vision/test/images/moving_dp20m_Matrice200V2_0720_1_267.jpg: 384x640 1 Drone, Done. (0.039s)\n",
      "image 66/308 /content/drive/Shareddrives/AI-Drone/temp/Vision/test/images/moving_dp20m_Matrice200V2_0720_1_268.jpg: 384x640 1 Drone, Done. (0.041s)\n",
      "image 67/308 /content/drive/Shareddrives/AI-Drone/temp/Vision/test/images/moving_dp20m_Matrice200V2_0720_1_276.jpg: 384x640 1 Drone, Done. (0.041s)\n",
      "image 68/308 /content/drive/Shareddrives/AI-Drone/temp/Vision/test/images/moving_dp20m_Matrice200V2_0720_1_28.jpg: 384x640 2 Drones, Done. (0.040s)\n",
      "image 69/308 /content/drive/Shareddrives/AI-Drone/temp/Vision/test/images/moving_dp20m_Matrice200V2_0720_1_283.jpg: 384x640 1 Drone, Done. (0.040s)\n",
      "image 70/308 /content/drive/Shareddrives/AI-Drone/temp/Vision/test/images/moving_dp20m_Matrice200V2_0720_1_285.jpg: 384x640 1 Drone, Done. (0.039s)\n",
      "image 71/308 /content/drive/Shareddrives/AI-Drone/temp/Vision/test/images/moving_dp20m_Matrice200V2_0720_1_295.jpg: 384x640 1 Drone, Done. (0.039s)\n",
      "image 72/308 /content/drive/Shareddrives/AI-Drone/temp/Vision/test/images/moving_dp20m_Matrice200V2_0720_1_310.jpg: 384x640 1 Drone, Done. (0.040s)\n",
      "image 73/308 /content/drive/Shareddrives/AI-Drone/temp/Vision/test/images/moving_dp20m_Matrice200V2_0720_1_331.jpg: 384x640 1 Drone, Done. (0.039s)\n",
      "image 74/308 /content/drive/Shareddrives/AI-Drone/temp/Vision/test/images/moving_dp20m_Matrice200V2_0720_1_345.jpg: 384x640 1 Drone, Done. (0.039s)\n",
      "image 75/308 /content/drive/Shareddrives/AI-Drone/temp/Vision/test/images/moving_dp20m_Matrice200V2_0720_1_362.jpg: 384x640 1 Drone, Done. (0.040s)\n",
      "image 76/308 /content/drive/Shareddrives/AI-Drone/temp/Vision/test/images/moving_dp20m_Matrice200V2_0720_1_369.jpg: 384x640 1 Drone, Done. (0.039s)\n",
      "image 77/308 /content/drive/Shareddrives/AI-Drone/temp/Vision/test/images/moving_dp20m_Matrice200V2_0720_1_373.jpg: 384x640 1 Drone, Done. (0.039s)\n",
      "image 78/308 /content/drive/Shareddrives/AI-Drone/temp/Vision/test/images/moving_dp20m_Matrice200V2_0720_1_384.jpg: 384x640 1 Drone, Done. (0.040s)\n",
      "image 79/308 /content/drive/Shareddrives/AI-Drone/temp/Vision/test/images/moving_dp20m_Matrice200V2_0720_1_392.jpg: 384x640 Done. (0.039s)\n",
      "image 80/308 /content/drive/Shareddrives/AI-Drone/temp/Vision/test/images/moving_dp20m_Matrice200V2_0720_1_401.jpg: 384x640 Done. (0.039s)\n",
      "image 81/308 /content/drive/Shareddrives/AI-Drone/temp/Vision/test/images/moving_dp20m_Matrice200V2_0720_1_404.jpg: 384x640 Done. (0.040s)\n",
      "image 82/308 /content/drive/Shareddrives/AI-Drone/temp/Vision/test/images/moving_dp20m_Matrice200V2_0720_1_407.jpg: 384x640 1 Drone, Done. (0.039s)\n",
      "image 83/308 /content/drive/Shareddrives/AI-Drone/temp/Vision/test/images/moving_dp20m_Matrice200V2_0720_1_42.jpg: 384x640 1 Drone, Done. (0.038s)\n",
      "image 84/308 /content/drive/Shareddrives/AI-Drone/temp/Vision/test/images/moving_dp20m_Matrice200V2_0720_1_420.jpg: 384x640 1 Drone, Done. (0.038s)\n",
      "image 85/308 /content/drive/Shareddrives/AI-Drone/temp/Vision/test/images/moving_dp20m_Matrice200V2_0720_1_426.jpg: 384x640 1 Drone, Done. (0.038s)\n",
      "image 86/308 /content/drive/Shareddrives/AI-Drone/temp/Vision/test/images/moving_dp20m_Matrice200V2_0720_1_436.jpg: 384x640 1 Drone, Done. (0.038s)\n",
      "image 87/308 /content/drive/Shareddrives/AI-Drone/temp/Vision/test/images/moving_dp20m_Matrice200V2_0720_1_439.jpg: 384x640 1 Drone, Done. (0.038s)\n",
      "image 88/308 /content/drive/Shareddrives/AI-Drone/temp/Vision/test/images/moving_dp20m_Matrice200V2_0720_1_45.jpg: 384x640 1 Drone, Done. (0.038s)\n",
      "image 89/308 /content/drive/Shareddrives/AI-Drone/temp/Vision/test/images/moving_dp20m_Matrice200V2_0720_1_456.jpg: 384x640 1 Drone, Done. (0.038s)\n",
      "image 90/308 /content/drive/Shareddrives/AI-Drone/temp/Vision/test/images/moving_dp20m_Matrice200V2_0720_1_463.jpg: 384x640 1 Drone, Done. (0.038s)\n",
      "image 91/308 /content/drive/Shareddrives/AI-Drone/temp/Vision/test/images/moving_dp20m_Matrice200V2_0720_1_468.jpg: 384x640 1 Drone, Done. (0.061s)\n",
      "image 92/308 /content/drive/Shareddrives/AI-Drone/temp/Vision/test/images/moving_dp20m_Matrice200V2_0720_1_469.jpg: 384x640 1 Drone, Done. (0.061s)\n",
      "image 93/308 /content/drive/Shareddrives/AI-Drone/temp/Vision/test/images/moving_dp20m_Matrice200V2_0720_1_478.jpg: 384x640 1 Drone, Done. (0.061s)\n",
      "image 94/308 /content/drive/Shareddrives/AI-Drone/temp/Vision/test/images/moving_dp20m_Matrice200V2_0720_1_48.jpg: 384x640 1 Drone, Done. (0.061s)\n",
      "image 95/308 /content/drive/Shareddrives/AI-Drone/temp/Vision/test/images/moving_dp20m_Matrice200V2_0720_1_49.jpg: 384x640 1 Drone, Done. (0.047s)\n",
      "image 96/308 /content/drive/Shareddrives/AI-Drone/temp/Vision/test/images/moving_dp20m_Matrice200V2_0720_1_63.jpg: 384x640 1 Drone, Done. (0.047s)\n",
      "image 97/308 /content/drive/Shareddrives/AI-Drone/temp/Vision/test/images/moving_dp20m_Matrice200V2_0720_1_68.jpg: 384x640 1 Drone, Done. (0.047s)\n",
      "image 98/308 /content/drive/Shareddrives/AI-Drone/temp/Vision/test/images/moving_dp20m_Matrice200V2_0720_1_87.jpg: 384x640 1 Drone, Done. (0.047s)\n",
      "image 99/308 /content/drive/Shareddrives/AI-Drone/temp/Vision/test/images/moving_dp20m_Matrice200V2_0720_1_91.jpg: 384x640 1 Drone, Done. (0.047s)\n",
      "image 100/308 /content/drive/Shareddrives/AI-Drone/temp/Vision/test/images/moving_dp20m_Matrice200V2_0721_1_123.jpg: 384x640 1 Drone, Done. (0.042s)\n",
      "image 101/308 /content/drive/Shareddrives/AI-Drone/temp/Vision/test/images/moving_dp20m_Matrice200V2_0721_1_23.jpg: 384x640 1 Drone, Done. (0.042s)\n",
      "image 102/308 /content/drive/Shareddrives/AI-Drone/temp/Vision/test/images/moving_dp20m_Matrice200V2_0721_1_32.jpg: 384x640 Done. (0.041s)\n",
      "image 103/308 /content/drive/Shareddrives/AI-Drone/temp/Vision/test/images/moving_dp20m_Matrice200V2_0721_1_56.jpg: 384x640 1 Drone, Done. (0.040s)\n",
      "image 104/308 /content/drive/Shareddrives/AI-Drone/temp/Vision/test/images/moving_dp20m_Matrice200V2_0721_1_62.jpg: 384x640 Done. (0.040s)\n",
      "image 105/308 /content/drive/Shareddrives/AI-Drone/temp/Vision/test/images/moving_dp20m_Matrice200V2_0721_1_69.jpg: 384x640 Done. (0.039s)\n",
      "image 106/308 /content/drive/Shareddrives/AI-Drone/temp/Vision/test/images/moving_dp20m_Matrice200V2_0721_1_7.jpg: 384x640 1 Drone, Done. (0.039s)\n",
      "image 107/308 /content/drive/Shareddrives/AI-Drone/temp/Vision/test/images/moving_dp20m_Matrice200V2_0721_1_74.jpg: 384x640 Done. (0.039s)\n",
      "image 108/308 /content/drive/Shareddrives/AI-Drone/temp/Vision/test/images/moving_dp20m_Matrice200V2_0721_1_76.jpg: 384x640 1 Drone, Done. (0.040s)\n",
      "image 109/308 /content/drive/Shareddrives/AI-Drone/temp/Vision/test/images/moving_dp20m_Matrice200V2_0721_1_83.jpg: 384x640 Done. (0.039s)\n",
      "image 110/308 /content/drive/Shareddrives/AI-Drone/temp/Vision/test/images/moving_dp20m_Matrice200V2_0721_2_19.jpg: 384x640 1 Drone, Done. (0.039s)\n",
      "image 111/308 /content/drive/Shareddrives/AI-Drone/temp/Vision/test/images/moving_dp20m_Matrice200V2_0721_2_28.jpg: 384x640 1 Drone, Done. (0.039s)\n",
      "image 112/308 /content/drive/Shareddrives/AI-Drone/temp/Vision/test/images/moving_dp20m_Matrice200V2_0721_2_30.jpg: 384x640 1 Drone, Done. (0.039s)\n",
      "image 113/308 /content/drive/Shareddrives/AI-Drone/temp/Vision/test/images/moving_dp20m_Matrice200V2_0721_2_39.jpg: 384x640 1 Drone, Done. (0.039s)\n",
      "image 114/308 /content/drive/Shareddrives/AI-Drone/temp/Vision/test/images/moving_dp20m_Matrice200V2_0721_2_42.jpg: 384x640 Done. (0.039s)\n",
      "image 115/308 /content/drive/Shareddrives/AI-Drone/temp/Vision/test/images/moving_dp20m_Matrice200V2_0721_2_48.jpg: 384x640 1 Drone, Done. (0.040s)\n",
      "image 116/308 /content/drive/Shareddrives/AI-Drone/temp/Vision/test/images/moving_dp20m_Matrice200V2_0721_2_59.jpg: 384x640 Done. (0.040s)\n",
      "image 117/308 /content/drive/Shareddrives/AI-Drone/temp/Vision/test/images/moving_dp20m_Matrice200V2_0721_2_6.jpg: 384x640 1 Drone, Done. (0.040s)\n",
      "image 118/308 /content/drive/Shareddrives/AI-Drone/temp/Vision/test/images/moving_dp20m_Matrice200V2_0721_2_64.jpg: 384x640 Done. (0.039s)\n",
      "image 119/308 /content/drive/Shareddrives/AI-Drone/temp/Vision/test/images/moving_dp20m_Matrice200V2_0726_1_107.jpg: 384x640 1 Drone, Done. (0.039s)\n",
      "image 120/308 /content/drive/Shareddrives/AI-Drone/temp/Vision/test/images/moving_dp20m_Matrice200V2_0726_1_129.jpg: 384x640 1 Drone, Done. (0.039s)\n",
      "image 121/308 /content/drive/Shareddrives/AI-Drone/temp/Vision/test/images/moving_dp20m_Matrice200V2_0726_1_149.jpg: 384x640 1 Drone, Done. (0.039s)\n",
      "image 122/308 /content/drive/Shareddrives/AI-Drone/temp/Vision/test/images/moving_dp20m_Matrice200V2_0726_1_153.jpg: 384x640 Done. (0.039s)\n",
      "image 123/308 /content/drive/Shareddrives/AI-Drone/temp/Vision/test/images/moving_dp20m_Matrice200V2_0726_1_175.jpg: 384x640 1 Drone, Done. (0.039s)\n",
      "image 124/308 /content/drive/Shareddrives/AI-Drone/temp/Vision/test/images/moving_dp20m_Matrice200V2_0726_1_178.jpg: 384x640 Done. (0.040s)\n",
      "image 125/308 /content/drive/Shareddrives/AI-Drone/temp/Vision/test/images/moving_dp20m_Matrice200V2_0726_1_193.jpg: 384x640 Done. (0.039s)\n",
      "image 126/308 /content/drive/Shareddrives/AI-Drone/temp/Vision/test/images/moving_dp20m_Matrice200V2_0726_1_212.jpg: 384x640 Done. (0.039s)\n",
      "image 127/308 /content/drive/Shareddrives/AI-Drone/temp/Vision/test/images/moving_dp20m_Matrice200V2_0726_1_29.jpg: 384x640 Done. (0.040s)\n",
      "image 128/308 /content/drive/Shareddrives/AI-Drone/temp/Vision/test/images/moving_dp20m_Matrice200V2_0726_1_30.jpg: 384x640 1 Drone, Done. (0.041s)\n",
      "image 129/308 /content/drive/Shareddrives/AI-Drone/temp/Vision/test/images/moving_dp20m_Matrice200V2_0726_1_31.jpg: 384x640 1 Drone, Done. (0.042s)\n",
      "image 130/308 /content/drive/Shareddrives/AI-Drone/temp/Vision/test/images/moving_dp20m_Matrice200V2_0726_1_40.jpg: 384x640 1 Drone, Done. (0.042s)\n",
      "image 131/308 /content/drive/Shareddrives/AI-Drone/temp/Vision/test/images/moving_dp20m_Matrice200V2_0726_1_48.jpg: 384x640 1 Drone, Done. (0.042s)\n",
      "image 132/308 /content/drive/Shareddrives/AI-Drone/temp/Vision/test/images/moving_dp20m_Matrice200V2_0726_1_5.jpg: 384x640 1 Drone, Done. (0.043s)\n",
      "image 133/308 /content/drive/Shareddrives/AI-Drone/temp/Vision/test/images/moving_dp20m_Matrice200V2_0726_1_53.jpg: 384x640 1 Drone, Done. (0.043s)\n",
      "image 134/308 /content/drive/Shareddrives/AI-Drone/temp/Vision/test/images/moving_dp20m_Matrice200V2_0726_1_55.jpg: 384x640 1 Drone, Done. (0.041s)\n",
      "image 135/308 /content/drive/Shareddrives/AI-Drone/temp/Vision/test/images/moving_dp20m_Matrice200V2_0726_1_56.jpg: 384x640 1 Drone, Done. (0.041s)\n",
      "image 136/308 /content/drive/Shareddrives/AI-Drone/temp/Vision/test/images/moving_dp20m_Matrice200V2_0726_1_64.jpg: 384x640 1 Drone, Done. (0.041s)\n",
      "image 137/308 /content/drive/Shareddrives/AI-Drone/temp/Vision/test/images/moving_dp20m_Matrice200V2_0726_1_68.jpg: 384x640 1 Drone, Done. (0.041s)\n",
      "image 138/308 /content/drive/Shareddrives/AI-Drone/temp/Vision/test/images/moving_dp20m_Matrice200V2_0726_1_71.jpg: 384x640 1 Drone, Done. (0.041s)\n",
      "image 139/308 /content/drive/Shareddrives/AI-Drone/temp/Vision/test/images/moving_dp20m_Matrice200V2_0726_1_73.jpg: 384x640 1 Drone, Done. (0.040s)\n",
      "image 140/308 /content/drive/Shareddrives/AI-Drone/temp/Vision/test/images/moving_dp20m_Matrice200V2_0726_1_83.jpg: 384x640 1 Drone, Done. (0.039s)\n",
      "image 141/308 /content/drive/Shareddrives/AI-Drone/temp/Vision/test/images/moving_dp20m_Matrice200V2_0726_1_99.jpg: 384x640 1 Drone, Done. (0.039s)\n",
      "image 142/308 /content/drive/Shareddrives/AI-Drone/temp/Vision/test/images/moving_dp20m_Matrice200V2_0726_2_1.jpg: 384x640 1 Drone, Done. (0.039s)\n",
      "image 143/308 /content/drive/Shareddrives/AI-Drone/temp/Vision/test/images/moving_dp20m_Matrice200V2_0726_2_13.jpg: 384x640 1 Drone, Done. (0.039s)\n",
      "image 144/308 /content/drive/Shareddrives/AI-Drone/temp/Vision/test/images/moving_dp20m_Matrice200V2_0726_2_27.jpg: 384x640 Done. (0.039s)\n",
      "image 145/308 /content/drive/Shareddrives/AI-Drone/temp/Vision/test/images/moving_dp20m_Matrice200V2_0726_2_44.jpg: 384x640 Done. (0.039s)\n",
      "image 146/308 /content/drive/Shareddrives/AI-Drone/temp/Vision/test/images/moving_dp20m_Matrice200V2_0726_2_50.jpg: 384x640 Done. (0.040s)\n",
      "image 147/308 /content/drive/Shareddrives/AI-Drone/temp/Vision/test/images/moving_dp20m_Matrice200V2_0726_2_55.jpg: 384x640 1 Drone, Done. (0.039s)\n",
      "image 148/308 /content/drive/Shareddrives/AI-Drone/temp/Vision/test/images/moving_dp20m_Matrice200V2_0726_2_59.jpg: 384x640 1 Drone, Done. (0.039s)\n",
      "image 149/308 /content/drive/Shareddrives/AI-Drone/temp/Vision/test/images/moving_dp20m_Matrice200V2_0726_2_6.jpg: 384x640 1 Drone, Done. (0.040s)\n",
      "image 150/308 /content/drive/Shareddrives/AI-Drone/temp/Vision/test/images/moving_dp20m_Matrice200V2_0726_2_66.jpg: 384x640 1 Drone, Done. (0.039s)\n",
      "image 151/308 /content/drive/Shareddrives/AI-Drone/temp/Vision/test/images/moving_dp20m_Matrice200V2_0726_2_74.jpg: 384x640 Done. (0.039s)\n",
      "image 152/308 /content/drive/Shareddrives/AI-Drone/temp/Vision/test/images/moving_dp20m_Matrice200V2_0726_2_79.jpg: 384x640 Done. (0.039s)\n",
      "image 153/308 /content/drive/Shareddrives/AI-Drone/temp/Vision/test/images/moving_dp20m_Matrice200V2_0726_2_84.jpg: 384x640 Done. (0.040s)\n",
      "image 154/308 /content/drive/Shareddrives/AI-Drone/temp/Vision/test/images/moving_dp20m_Matrice200V2_0726_2_91.jpg: 384x640 Done. (0.061s)\n",
      "image 155/308 /content/drive/Shareddrives/AI-Drone/temp/Vision/test/images/none_Drone_Matrice200V2_0713_1_107.jpg: 384x640 Done. (0.059s)\n",
      "image 156/308 /content/drive/Shareddrives/AI-Drone/temp/Vision/test/images/none_Drone_Matrice200V2_0713_1_129.jpg: 384x640 Done. (0.056s)\n",
      "image 157/308 /content/drive/Shareddrives/AI-Drone/temp/Vision/test/images/none_Drone_Matrice200V2_0713_1_149.jpg: 384x640 Done. (0.052s)\n",
      "image 158/308 /content/drive/Shareddrives/AI-Drone/temp/Vision/test/images/none_Drone_Matrice200V2_0713_1_153.jpg: 384x640 Done. (0.052s)\n",
      "image 159/308 /content/drive/Shareddrives/AI-Drone/temp/Vision/test/images/none_Drone_Matrice200V2_0713_1_175.jpg: 384x640 Done. (0.043s)\n",
      "image 160/308 /content/drive/Shareddrives/AI-Drone/temp/Vision/test/images/none_Drone_Matrice200V2_0713_1_178.jpg: 384x640 Done. (0.043s)\n",
      "image 161/308 /content/drive/Shareddrives/AI-Drone/temp/Vision/test/images/none_Drone_Matrice200V2_0713_1_193.jpg: 384x640 Done. (0.041s)\n",
      "image 162/308 /content/drive/Shareddrives/AI-Drone/temp/Vision/test/images/none_Drone_Matrice200V2_0713_1_212.jpg: 384x640 Done. (0.041s)\n",
      "image 163/308 /content/drive/Shareddrives/AI-Drone/temp/Vision/test/images/none_Drone_Matrice200V2_0713_1_240.jpg: 384x640 Done. (0.041s)\n",
      "image 164/308 /content/drive/Shareddrives/AI-Drone/temp/Vision/test/images/none_Drone_Matrice200V2_0713_1_242.jpg: 384x640 Done. (0.041s)\n",
      "image 165/308 /content/drive/Shareddrives/AI-Drone/temp/Vision/test/images/none_Drone_Matrice200V2_0713_1_252.jpg: 384x640 Done. (0.041s)\n",
      "image 166/308 /content/drive/Shareddrives/AI-Drone/temp/Vision/test/images/none_Drone_Matrice200V2_0713_1_26.jpg: 384x640 Done. (0.041s)\n",
      "image 167/308 /content/drive/Shareddrives/AI-Drone/temp/Vision/test/images/none_Drone_Matrice200V2_0713_1_261.jpg: 384x640 Done. (0.041s)\n",
      "image 168/308 /content/drive/Shareddrives/AI-Drone/temp/Vision/test/images/none_Drone_Matrice200V2_0713_1_265.jpg: 384x640 Done. (0.041s)\n",
      "image 169/308 /content/drive/Shareddrives/AI-Drone/temp/Vision/test/images/none_Drone_Matrice200V2_0713_1_267.jpg: 384x640 Done. (0.041s)\n",
      "image 170/308 /content/drive/Shareddrives/AI-Drone/temp/Vision/test/images/none_Drone_Matrice200V2_0713_1_268.jpg: 384x640 Done. (0.041s)\n",
      "image 171/308 /content/drive/Shareddrives/AI-Drone/temp/Vision/test/images/none_Drone_Matrice200V2_0713_1_276.jpg: 384x640 Done. (0.041s)\n",
      "image 172/308 /content/drive/Shareddrives/AI-Drone/temp/Vision/test/images/none_Drone_Matrice200V2_0713_1_28.jpg: 384x640 Done. (0.041s)\n",
      "image 173/308 /content/drive/Shareddrives/AI-Drone/temp/Vision/test/images/none_Drone_Matrice200V2_0713_1_283.jpg: 384x640 Done. (0.041s)\n",
      "image 174/308 /content/drive/Shareddrives/AI-Drone/temp/Vision/test/images/none_Drone_Matrice200V2_0713_1_285.jpg: 384x640 Done. (0.041s)\n",
      "image 175/308 /content/drive/Shareddrives/AI-Drone/temp/Vision/test/images/none_Drone_Matrice200V2_0713_1_295.jpg: 384x640 Done. (0.041s)\n",
      "image 176/308 /content/drive/Shareddrives/AI-Drone/temp/Vision/test/images/none_Drone_Matrice200V2_0713_1_310.jpg: 384x640 Done. (0.041s)\n",
      "image 177/308 /content/drive/Shareddrives/AI-Drone/temp/Vision/test/images/none_Drone_Matrice200V2_0713_1_331.jpg: 384x640 Done. (0.041s)\n",
      "image 178/308 /content/drive/Shareddrives/AI-Drone/temp/Vision/test/images/none_Drone_Matrice200V2_0713_1_345.jpg: 384x640 Done. (0.041s)\n",
      "image 179/308 /content/drive/Shareddrives/AI-Drone/temp/Vision/test/images/none_Drone_Matrice200V2_0713_1_362.jpg: 384x640 Done. (0.042s)\n",
      "image 180/308 /content/drive/Shareddrives/AI-Drone/temp/Vision/test/images/none_Drone_Matrice200V2_0713_1_369.jpg: 384x640 Done. (0.042s)\n",
      "image 181/308 /content/drive/Shareddrives/AI-Drone/temp/Vision/test/images/none_Drone_Matrice200V2_0713_1_373.jpg: 384x640 Done. (0.041s)\n",
      "image 182/308 /content/drive/Shareddrives/AI-Drone/temp/Vision/test/images/none_Drone_Matrice200V2_0713_1_384.jpg: 384x640 Done. (0.041s)\n",
      "image 183/308 /content/drive/Shareddrives/AI-Drone/temp/Vision/test/images/none_Drone_Matrice200V2_0713_1_392.jpg: 384x640 Done. (0.041s)\n",
      "image 184/308 /content/drive/Shareddrives/AI-Drone/temp/Vision/test/images/none_Drone_Matrice200V2_0713_1_401.jpg: 384x640 Done. (0.040s)\n",
      "image 185/308 /content/drive/Shareddrives/AI-Drone/temp/Vision/test/images/none_Drone_Matrice200V2_0713_1_404.jpg: 384x640 Done. (0.040s)\n",
      "image 186/308 /content/drive/Shareddrives/AI-Drone/temp/Vision/test/images/none_Drone_Matrice200V2_0713_1_407.jpg: 384x640 Done. (0.040s)\n",
      "image 187/308 /content/drive/Shareddrives/AI-Drone/temp/Vision/test/images/none_Drone_Matrice200V2_0713_1_42.jpg: 384x640 Done. (0.040s)\n",
      "image 188/308 /content/drive/Shareddrives/AI-Drone/temp/Vision/test/images/none_Drone_Matrice200V2_0713_1_420.jpg: 384x640 Done. (0.061s)\n",
      "image 189/308 /content/drive/Shareddrives/AI-Drone/temp/Vision/test/images/none_Drone_Matrice200V2_0713_1_426.jpg: 384x640 Done. (0.061s)\n",
      "image 190/308 /content/drive/Shareddrives/AI-Drone/temp/Vision/test/images/none_Drone_Matrice200V2_0713_1_436.jpg: 384x640 Done. (0.061s)\n",
      "image 191/308 /content/drive/Shareddrives/AI-Drone/temp/Vision/test/images/none_Drone_Matrice200V2_0713_1_439.jpg: 384x640 Done. (0.061s)\n",
      "image 192/308 /content/drive/Shareddrives/AI-Drone/temp/Vision/test/images/none_Drone_Matrice200V2_0713_1_45.jpg: 384x640 Done. (0.044s)\n",
      "image 193/308 /content/drive/Shareddrives/AI-Drone/temp/Vision/test/images/none_Drone_Matrice200V2_0713_1_456.jpg: 384x640 Done. (0.044s)\n",
      "image 194/308 /content/drive/Shareddrives/AI-Drone/temp/Vision/test/images/none_Drone_Matrice200V2_0713_1_463.jpg: 384x640 Done. (0.044s)\n",
      "image 195/308 /content/drive/Shareddrives/AI-Drone/temp/Vision/test/images/none_Drone_Matrice200V2_0713_1_466.jpg: 384x640 Done. (0.044s)\n",
      "image 196/308 /content/drive/Shareddrives/AI-Drone/temp/Vision/test/images/none_Drone_Matrice200V2_0713_1_468.jpg: 384x640 Done. (0.044s)\n",
      "image 197/308 /content/drive/Shareddrives/AI-Drone/temp/Vision/test/images/none_Drone_Matrice200V2_0713_1_469.jpg: 384x640 Done. (0.044s)\n",
      "image 198/308 /content/drive/Shareddrives/AI-Drone/temp/Vision/test/images/none_Drone_Matrice200V2_0713_1_478.jpg: 384x640 Done. (0.044s)\n",
      "image 199/308 /content/drive/Shareddrives/AI-Drone/temp/Vision/test/images/none_Drone_Matrice200V2_0713_1_48.jpg: 384x640 Done. (0.041s)\n",
      "image 200/308 /content/drive/Shareddrives/AI-Drone/temp/Vision/test/images/none_Drone_Matrice200V2_0713_1_483.jpg: 384x640 Done. (0.041s)\n",
      "image 201/308 /content/drive/Shareddrives/AI-Drone/temp/Vision/test/images/none_Drone_Matrice200V2_0713_1_61.jpg: 384x640 Done. (0.041s)\n",
      "image 202/308 /content/drive/Shareddrives/AI-Drone/temp/Vision/test/images/none_Drone_Matrice200V2_0713_1_68.jpg: 384x640 Done. (0.041s)\n",
      "image 203/308 /content/drive/Shareddrives/AI-Drone/temp/Vision/test/images/none_Drone_Matrice200V2_0713_1_87.jpg: 384x640 Done. (0.040s)\n",
      "image 204/308 /content/drive/Shareddrives/AI-Drone/temp/Vision/test/images/none_Drone_Matrice200V2_0713_1_9.jpg: 384x640 Done. (0.040s)\n",
      "image 205/308 /content/drive/Shareddrives/AI-Drone/temp/Vision/test/images/none_Drone_Matrice200V2_0720_1_107.jpg: 384x640 Done. (0.040s)\n",
      "image 206/308 /content/drive/Shareddrives/AI-Drone/temp/Vision/test/images/none_Drone_Matrice200V2_0720_1_129.jpg: 384x640 Done. (0.040s)\n",
      "image 207/308 /content/drive/Shareddrives/AI-Drone/temp/Vision/test/images/none_Drone_Matrice200V2_0720_1_149.jpg: 384x640 Done. (0.040s)\n",
      "image 208/308 /content/drive/Shareddrives/AI-Drone/temp/Vision/test/images/none_Drone_Matrice200V2_0720_1_153.jpg: 384x640 Done. (0.040s)\n",
      "image 209/308 /content/drive/Shareddrives/AI-Drone/temp/Vision/test/images/none_Drone_Matrice200V2_0720_1_175.jpg: 384x640 Done. (0.040s)\n",
      "image 210/308 /content/drive/Shareddrives/AI-Drone/temp/Vision/test/images/none_Drone_Matrice200V2_0720_1_178.jpg: 384x640 Done. (0.040s)\n",
      "image 211/308 /content/drive/Shareddrives/AI-Drone/temp/Vision/test/images/none_Drone_Matrice200V2_0720_1_193.jpg: 384x640 Done. (0.040s)\n",
      "image 212/308 /content/drive/Shareddrives/AI-Drone/temp/Vision/test/images/none_Drone_Matrice200V2_0720_1_212.jpg: 384x640 Done. (0.040s)\n",
      "image 213/308 /content/drive/Shareddrives/AI-Drone/temp/Vision/test/images/none_Drone_Matrice200V2_0720_1_240.jpg: 384x640 Done. (0.040s)\n",
      "image 214/308 /content/drive/Shareddrives/AI-Drone/temp/Vision/test/images/none_Drone_Matrice200V2_0720_1_242.jpg: 384x640 Done. (0.061s)\n",
      "image 215/308 /content/drive/Shareddrives/AI-Drone/temp/Vision/test/images/none_Drone_Matrice200V2_0720_1_252.jpg: 384x640 Done. (0.058s)\n",
      "image 216/308 /content/drive/Shareddrives/AI-Drone/temp/Vision/test/images/none_Drone_Matrice200V2_0720_1_26.jpg: 384x640 Done. (0.052s)\n",
      "image 217/308 /content/drive/Shareddrives/AI-Drone/temp/Vision/test/images/none_Drone_Matrice200V2_0720_1_261.jpg: 384x640 Done. (0.052s)\n",
      "image 218/308 /content/drive/Shareddrives/AI-Drone/temp/Vision/test/images/none_Drone_Matrice200V2_0720_1_265.jpg: 384x640 Done. (0.052s)\n",
      "image 219/308 /content/drive/Shareddrives/AI-Drone/temp/Vision/test/images/none_Drone_Matrice200V2_0720_1_267.jpg: 384x640 Done. (0.043s)\n",
      "image 220/308 /content/drive/Shareddrives/AI-Drone/temp/Vision/test/images/none_Drone_Matrice200V2_0720_1_268.jpg: 384x640 Done. (0.043s)\n",
      "image 221/308 /content/drive/Shareddrives/AI-Drone/temp/Vision/test/images/none_Drone_Matrice200V2_0720_1_276.jpg: 384x640 Done. (0.041s)\n",
      "image 222/308 /content/drive/Shareddrives/AI-Drone/temp/Vision/test/images/none_Drone_Matrice200V2_0720_1_28.jpg: 384x640 Done. (0.041s)\n",
      "image 223/308 /content/drive/Shareddrives/AI-Drone/temp/Vision/test/images/none_Drone_Matrice200V2_0720_1_283.jpg: 384x640 Done. (0.041s)\n",
      "image 224/308 /content/drive/Shareddrives/AI-Drone/temp/Vision/test/images/none_Drone_Matrice200V2_0720_1_285.jpg: 384x640 Done. (0.041s)\n",
      "image 225/308 /content/drive/Shareddrives/AI-Drone/temp/Vision/test/images/none_Drone_Matrice200V2_0720_1_295.jpg: 384x640 Done. (0.041s)\n",
      "image 226/308 /content/drive/Shareddrives/AI-Drone/temp/Vision/test/images/none_Drone_Matrice200V2_0720_1_4.jpg: 384x640 Done. (0.041s)\n",
      "image 227/308 /content/drive/Shareddrives/AI-Drone/temp/Vision/test/images/none_Drone_Matrice200V2_0720_1_60.jpg: 384x640 Done. (0.041s)\n",
      "image 228/308 /content/drive/Shareddrives/AI-Drone/temp/Vision/test/images/none_Drone_Matrice200V2_0720_1_74.jpg: 384x640 Done. (0.041s)\n",
      "image 229/308 /content/drive/Shareddrives/AI-Drone/temp/Vision/test/images/none_Drone_Matrice200V2_0720_1_91.jpg: 384x640 Done. (0.040s)\n",
      "image 230/308 /content/drive/Shareddrives/AI-Drone/temp/Vision/test/images/none_Drone_Matrice200V2_0720_1_98.jpg: 384x640 Done. (0.040s)\n",
      "image 231/308 /content/drive/Shareddrives/AI-Drone/temp/Vision/test/images/none_Drone_Matrice200V2_0720_2_101.jpg: 384x640 Done. (0.040s)\n",
      "image 232/308 /content/drive/Shareddrives/AI-Drone/temp/Vision/test/images/none_Drone_Matrice200V2_0720_2_112.jpg: 384x640 Done. (0.040s)\n",
      "image 233/308 /content/drive/Shareddrives/AI-Drone/temp/Vision/test/images/none_Drone_Matrice200V2_0720_2_120.jpg: 384x640 Done. (0.040s)\n",
      "image 234/308 /content/drive/Shareddrives/AI-Drone/temp/Vision/test/images/none_Drone_Matrice200V2_0720_2_130.jpg: 384x640 Done. (0.040s)\n",
      "image 235/308 /content/drive/Shareddrives/AI-Drone/temp/Vision/test/images/none_Drone_Matrice200V2_0720_2_133.jpg: 384x640 Done. (0.040s)\n",
      "image 236/308 /content/drive/Shareddrives/AI-Drone/temp/Vision/test/images/none_Drone_Matrice200V2_0720_2_136.jpg: 384x640 Done. (0.040s)\n",
      "image 237/308 /content/drive/Shareddrives/AI-Drone/temp/Vision/test/images/none_Drone_Matrice200V2_0720_2_149.jpg: 384x640 Done. (0.040s)\n",
      "image 238/308 /content/drive/Shareddrives/AI-Drone/temp/Vision/test/images/none_Drone_Matrice200V2_0720_2_15.jpg: 384x640 Done. (0.040s)\n",
      "image 239/308 /content/drive/Shareddrives/AI-Drone/temp/Vision/test/images/none_Drone_Matrice200V2_0720_2_155.jpg: 384x640 Done. (0.040s)\n",
      "image 240/308 /content/drive/Shareddrives/AI-Drone/temp/Vision/test/images/none_Drone_Matrice200V2_0720_2_165.jpg: 384x640 Done. (0.040s)\n",
      "image 241/308 /content/drive/Shareddrives/AI-Drone/temp/Vision/test/images/none_Drone_Matrice200V2_0720_2_168.jpg: 384x640 Done. (0.040s)\n",
      "image 242/308 /content/drive/Shareddrives/AI-Drone/temp/Vision/test/images/none_Drone_Matrice200V2_0720_2_179.jpg: 384x640 Done. (0.040s)\n",
      "image 243/308 /content/drive/Shareddrives/AI-Drone/temp/Vision/test/images/none_Drone_Matrice200V2_0720_2_21.jpg: 384x640 Done. (0.040s)\n",
      "image 244/308 /content/drive/Shareddrives/AI-Drone/temp/Vision/test/images/none_Drone_Matrice200V2_0720_2_29.jpg: 384x640 Done. (0.040s)\n",
      "image 245/308 /content/drive/Shareddrives/AI-Drone/temp/Vision/test/images/none_Drone_Matrice200V2_0720_2_33.jpg: 384x640 Done. (0.040s)\n",
      "image 246/308 /content/drive/Shareddrives/AI-Drone/temp/Vision/test/images/none_Drone_Matrice200V2_0720_2_34.jpg: 384x640 Done. (0.040s)\n",
      "image 247/308 /content/drive/Shareddrives/AI-Drone/temp/Vision/test/images/none_Drone_Matrice200V2_0720_2_43.jpg: 384x640 Done. (0.040s)\n",
      "image 248/308 /content/drive/Shareddrives/AI-Drone/temp/Vision/test/images/none_Drone_Matrice200V2_0720_2_45.jpg: 384x640 Done. (0.039s)\n",
      "image 249/308 /content/drive/Shareddrives/AI-Drone/temp/Vision/test/images/none_Drone_Matrice200V2_0720_2_49.jpg: 384x640 Done. (0.039s)\n",
      "image 250/308 /content/drive/Shareddrives/AI-Drone/temp/Vision/test/images/none_Drone_Matrice200V2_0720_2_63.jpg: 384x640 Done. (0.040s)\n",
      "image 251/308 /content/drive/Shareddrives/AI-Drone/temp/Vision/test/images/none_Drone_Matrice200V2_0720_2_68.jpg: 384x640 Done. (0.041s)\n",
      "image 252/308 /content/drive/Shareddrives/AI-Drone/temp/Vision/test/images/none_Drone_Matrice200V2_0720_2_87.jpg: 384x640 Done. (0.040s)\n",
      "image 253/308 /content/drive/Shareddrives/AI-Drone/temp/Vision/test/images/none_Drone_Matrice200V2_0720_2_91.jpg: 384x640 Done. (0.040s)\n",
      "image 254/308 /content/drive/Shareddrives/AI-Drone/temp/Vision/test/images/none_Drone_Matrice200V2_0721_1_34.jpg: 384x640 Done. (0.041s)\n",
      "image 255/308 /content/drive/Shareddrives/AI-Drone/temp/Vision/test/images/none_Drone_Matrice200V2_0721_1_48.jpg: 384x640 Done. (0.041s)\n",
      "image 256/308 /content/drive/Shareddrives/AI-Drone/temp/Vision/test/images/none_Drone_Matrice200V2_0721_1_57.jpg: 384x640 Done. (0.041s)\n",
      "image 257/308 /content/drive/Shareddrives/AI-Drone/temp/Vision/test/images/none_Drone_Matrice200V2_0721_1_80.jpg: 384x640 Done. (0.041s)\n",
      "image 258/308 /content/drive/Shareddrives/AI-Drone/temp/Vision/test/images/none_Drone_Matrice200V2_0721_1_87.jpg: 384x640 Done. (0.041s)\n",
      "image 259/308 /content/drive/Shareddrives/AI-Drone/temp/Vision/test/images/none_Drone_Matrice200V2_0721_2_100.jpg: 384x640 Done. (0.041s)\n",
      "image 260/308 /content/drive/Shareddrives/AI-Drone/temp/Vision/test/images/none_Drone_Matrice200V2_0721_2_11.jpg: 384x640 Done. (0.061s)\n",
      "image 261/308 /content/drive/Shareddrives/AI-Drone/temp/Vision/test/images/none_Drone_Matrice200V2_0721_2_16.jpg: 384x640 Done. (0.061s)\n",
      "image 262/308 /content/drive/Shareddrives/AI-Drone/temp/Vision/test/images/none_Drone_Matrice200V2_0721_2_18.jpg: 384x640 Done. (0.061s)\n",
      "image 263/308 /content/drive/Shareddrives/AI-Drone/temp/Vision/test/images/none_Drone_Matrice200V2_0721_2_25.jpg: 384x640 Done. (0.061s)\n",
      "image 264/308 /content/drive/Shareddrives/AI-Drone/temp/Vision/test/images/none_Drone_Matrice200V2_0721_2_50.jpg: 384x640 Done. (0.061s)\n",
      "image 265/308 /content/drive/Shareddrives/AI-Drone/temp/Vision/test/images/none_Drone_Matrice200V2_0721_2_6.jpg: 384x640 Done. (0.061s)\n",
      "image 266/308 /content/drive/Shareddrives/AI-Drone/temp/Vision/test/images/none_Drone_Matrice200V2_0721_2_62.jpg: 384x640 Done. (0.044s)\n",
      "image 267/308 /content/drive/Shareddrives/AI-Drone/temp/Vision/test/images/none_Drone_Matrice200V2_0721_2_70.jpg: 384x640 Done. (0.044s)\n",
      "image 268/308 /content/drive/Shareddrives/AI-Drone/temp/Vision/test/images/none_Drone_Matrice200V2_0721_2_74.jpg: 384x640 Done. (0.044s)\n",
      "image 269/308 /content/drive/Shareddrives/AI-Drone/temp/Vision/test/images/none_Drone_Matrice200V2_0721_2_8.jpg: 384x640 Done. (0.044s)\n",
      "image 270/308 /content/drive/Shareddrives/AI-Drone/temp/Vision/test/images/none_Drone_Matrice200V2_0721_2_90.jpg: 384x640 Done. (0.044s)\n",
      "image 271/308 /content/drive/Shareddrives/AI-Drone/temp/Vision/test/images/none_Drone_Matrice200V2_0721_2_91.jpg: 384x640 Done. (0.041s)\n",
      "image 272/308 /content/drive/Shareddrives/AI-Drone/temp/Vision/test/images/none_Drone_Matrice200V2_0721_2_96.jpg: 384x640 Done. (0.041s)\n",
      "image 273/308 /content/drive/Shareddrives/AI-Drone/temp/Vision/test/images/none_Drone_Matrice200V2_0726_1_107.jpg: 384x640 Done. (0.041s)\n",
      "image 274/308 /content/drive/Shareddrives/AI-Drone/temp/Vision/test/images/none_Drone_Matrice200V2_0726_1_129.jpg: 384x640 Done. (0.040s)\n",
      "image 275/308 /content/drive/Shareddrives/AI-Drone/temp/Vision/test/images/none_Drone_Matrice200V2_0726_1_149.jpg: 384x640 Done. (0.040s)\n",
      "image 276/308 /content/drive/Shareddrives/AI-Drone/temp/Vision/test/images/none_Drone_Matrice200V2_0726_1_153.jpg: 384x640 Done. (0.040s)\n",
      "image 277/308 /content/drive/Shareddrives/AI-Drone/temp/Vision/test/images/none_Drone_Matrice200V2_0726_1_175.jpg: 384x640 Done. (0.040s)\n",
      "image 278/308 /content/drive/Shareddrives/AI-Drone/temp/Vision/test/images/none_Drone_Matrice200V2_0726_1_178.jpg: 384x640 Done. (0.040s)\n",
      "image 279/308 /content/drive/Shareddrives/AI-Drone/temp/Vision/test/images/none_Drone_Matrice200V2_0726_1_193.jpg: 384x640 Done. (0.040s)\n",
      "image 280/308 /content/drive/Shareddrives/AI-Drone/temp/Vision/test/images/none_Drone_Matrice200V2_0726_1_212.jpg: 384x640 Done. (0.040s)\n",
      "image 281/308 /content/drive/Shareddrives/AI-Drone/temp/Vision/test/images/none_Drone_Matrice200V2_0726_1_29.jpg: 384x640 Done. (0.061s)\n",
      "image 282/308 /content/drive/Shareddrives/AI-Drone/temp/Vision/test/images/none_Drone_Matrice200V2_0726_1_30.jpg: 384x640 Done. (0.061s)\n",
      "image 283/308 /content/drive/Shareddrives/AI-Drone/temp/Vision/test/images/none_Drone_Matrice200V2_0726_1_31.jpg: 384x640 Done. (0.061s)\n",
      "image 284/308 /content/drive/Shareddrives/AI-Drone/temp/Vision/test/images/none_Drone_Matrice200V2_0726_1_40.jpg: 384x640 Done. (0.046s)\n",
      "image 285/308 /content/drive/Shareddrives/AI-Drone/temp/Vision/test/images/none_Drone_Matrice200V2_0726_1_48.jpg: 384x640 Done. (0.046s)\n",
      "image 286/308 /content/drive/Shareddrives/AI-Drone/temp/Vision/test/images/none_Drone_Matrice200V2_0726_1_5.jpg: 384x640 Done. (0.046s)\n",
      "image 287/308 /content/drive/Shareddrives/AI-Drone/temp/Vision/test/images/none_Drone_Matrice200V2_0726_1_53.jpg: 384x640 Done. (0.046s)\n",
      "image 288/308 /content/drive/Shareddrives/AI-Drone/temp/Vision/test/images/none_Drone_Matrice200V2_0726_1_55.jpg: 384x640 Done. (0.046s)\n",
      "image 289/308 /content/drive/Shareddrives/AI-Drone/temp/Vision/test/images/none_Drone_Matrice200V2_0726_1_56.jpg: 384x640 Done. (0.042s)\n",
      "image 290/308 /content/drive/Shareddrives/AI-Drone/temp/Vision/test/images/none_Drone_Matrice200V2_0726_1_64.jpg: 384x640 Done. (0.042s)\n",
      "image 291/308 /content/drive/Shareddrives/AI-Drone/temp/Vision/test/images/none_Drone_Matrice200V2_0726_1_68.jpg: 384x640 Done. (0.041s)\n",
      "image 292/308 /content/drive/Shareddrives/AI-Drone/temp/Vision/test/images/none_Drone_Matrice200V2_0726_1_71.jpg: 384x640 Done. (0.040s)\n",
      "image 293/308 /content/drive/Shareddrives/AI-Drone/temp/Vision/test/images/none_Drone_Matrice200V2_0726_1_73.jpg: 384x640 Done. (0.040s)\n",
      "image 294/308 /content/drive/Shareddrives/AI-Drone/temp/Vision/test/images/none_Drone_Matrice200V2_0726_1_83.jpg: 384x640 Done. (0.040s)\n",
      "image 295/308 /content/drive/Shareddrives/AI-Drone/temp/Vision/test/images/none_Drone_Matrice200V2_0726_1_99.jpg: 384x640 Done. (0.040s)\n",
      "image 296/308 /content/drive/Shareddrives/AI-Drone/temp/Vision/test/images/none_Drone_Matrice200V2_0726_2_1.jpg: 384x640 Done. (0.040s)\n",
      "image 297/308 /content/drive/Shareddrives/AI-Drone/temp/Vision/test/images/none_Drone_Matrice200V2_0726_2_13.jpg: 384x640 Done. (0.040s)\n",
      "image 298/308 /content/drive/Shareddrives/AI-Drone/temp/Vision/test/images/none_Drone_Matrice200V2_0726_2_27.jpg: 384x640 Done. (0.040s)\n",
      "image 299/308 /content/drive/Shareddrives/AI-Drone/temp/Vision/test/images/none_Drone_Matrice200V2_0726_2_44.jpg: 384x640 Done. (0.040s)\n",
      "image 300/308 /content/drive/Shareddrives/AI-Drone/temp/Vision/test/images/none_Drone_Matrice200V2_0726_2_50.jpg: 384x640 Done. (0.040s)\n",
      "image 301/308 /content/drive/Shareddrives/AI-Drone/temp/Vision/test/images/none_Drone_Matrice200V2_0726_2_55.jpg: 384x640 Done. (0.040s)\n",
      "image 302/308 /content/drive/Shareddrives/AI-Drone/temp/Vision/test/images/none_Drone_Matrice200V2_0726_2_59.jpg: 384x640 Done. (0.040s)\n",
      "image 303/308 /content/drive/Shareddrives/AI-Drone/temp/Vision/test/images/none_Drone_Matrice200V2_0726_2_6.jpg: 384x640 Done. (0.040s)\n",
      "image 304/308 /content/drive/Shareddrives/AI-Drone/temp/Vision/test/images/none_Drone_Matrice200V2_0726_2_66.jpg: 384x640 Done. (0.040s)\n",
      "image 305/308 /content/drive/Shareddrives/AI-Drone/temp/Vision/test/images/none_Drone_Matrice200V2_0726_2_74.jpg: 384x640 Done. (0.040s)\n",
      "image 306/308 /content/drive/Shareddrives/AI-Drone/temp/Vision/test/images/none_Drone_Matrice200V2_0726_2_79.jpg: 384x640 Done. (0.040s)\n",
      "image 307/308 /content/drive/Shareddrives/AI-Drone/temp/Vision/test/images/none_Drone_Matrice200V2_0726_2_84.jpg: 384x640 Done. (0.040s)\n",
      "image 308/308 /content/drive/Shareddrives/AI-Drone/temp/Vision/test/images/none_Drone_Matrice200V2_0726_2_91.jpg: 384x640 Done. (0.040s)\n",
      "Speed: 0.5ms pre-process, 43.6ms inference, 0.7ms NMS per image at shape (1, 3, 640, 640)\n",
      "Results saved to \u001b[1mruns/detect/exp12\u001b[0m\n",
      "130 labels saved to runs/detect/exp12/labels\n"
     ]
    }
   ],
   "source": [
    "!python3 detect.py --weights \"/content/drive/Shareddrives/AI-Drone/pythonnotebook/yolov5/runs/train/exp05_yolov5x/weights/best.pt\" --source \"/content/drive/Shareddrives/AI-Drone/temp/Vision/test/images\"  --conf 0.25 --save-txt --save-conf"
   ]
  },
  {
   "cell_type": "code",
   "execution_count": null,
   "metadata": {
    "id": "wN1mKqzAI8Qv"
   },
   "outputs": [],
   "source": []
  }
 ],
 "metadata": {
  "accelerator": "GPU",
  "colab": {
   "collapsed_sections": [
    "oJQ-wjGub6tY"
   ],
   "name": "yolov5_dongdong.ipynb",
   "provenance": []
  },
  "gpuClass": "standard",
  "kernelspec": {
   "display_name": "Python 3",
   "language": "python",
   "name": "python3"
  },
  "language_info": {
   "codemirror_mode": {
    "name": "ipython",
    "version": 3
   },
   "file_extension": ".py",
   "mimetype": "text/x-python",
   "name": "python",
   "nbconvert_exporter": "python",
   "pygments_lexer": "ipython3",
   "version": "3.6.5"
  }
 },
 "nbformat": 4,
 "nbformat_minor": 1
}
